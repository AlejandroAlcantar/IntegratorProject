{
 "cells": [
  {
   "cell_type": "markdown",
   "id": "492b3a75",
   "metadata": {
    "id": "MgWgmifjNvOI",
    "papermill": {
     "duration": 0.054413,
     "end_time": "2022-01-03T17:22:10.031332",
     "exception": false,
     "start_time": "2022-01-03T17:22:09.976919",
     "status": "completed"
    },
    "tags": []
   },
   "source": [
    "# Proyecto 2: Análisis de algoritmos de machine learning\n",
    "\n",
    "\n",
    "*   Hernán Mangas\n",
    "*   Brayan Figueroa\n"
   ]
  },
  {
   "cell_type": "markdown",
   "id": "3a260385",
   "metadata": {
    "id": "r-vSxsRwQbK4",
    "papermill": {
     "duration": 0.051676,
     "end_time": "2022-01-03T17:22:10.137690",
     "exception": false,
     "start_time": "2022-01-03T17:22:10.086014",
     "status": "completed"
    },
    "tags": []
   },
   "source": [
    "## Pre-procesamiento de datos"
   ]
  },
  {
   "cell_type": "markdown",
   "id": "bf1d6555",
   "metadata": {
    "id": "pKPw3qlHQ0Jx",
    "papermill": {
     "duration": 0.051081,
     "end_time": "2022-01-03T17:22:10.243035",
     "exception": false,
     "start_time": "2022-01-03T17:22:10.191954",
     "status": "completed"
    },
    "tags": []
   },
   "source": [
    "Se importan las librerias necesarias para: \n",
    "*   Importar el dataset\n",
    "*   Analizar los datos\n",
    "*   Limpiar datos curruptos\n",
    "*   Eliminar outliers\n",
    "\n"
   ]
  },
  {
   "cell_type": "code",
   "execution_count": 1,
   "id": "93d0c575",
   "metadata": {
    "execution": {
     "iopub.execute_input": "2022-01-03T17:22:10.353382Z",
     "iopub.status.busy": "2022-01-03T17:22:10.352158Z",
     "iopub.status.idle": "2022-01-03T17:22:11.484266Z",
     "shell.execute_reply": "2022-01-03T17:22:11.483454Z",
     "shell.execute_reply.started": "2022-01-03T16:51:47.253880Z"
    },
    "id": "FWKlV0WBQ1Cg",
    "papermill": {
     "duration": 1.189054,
     "end_time": "2022-01-03T17:22:11.484442",
     "exception": false,
     "start_time": "2022-01-03T17:22:10.295388",
     "status": "completed"
    },
    "tags": []
   },
   "outputs": [],
   "source": [
    "import pandas as pd\n",
    "import matplotlib.pyplot as plt\n",
    "import numpy as np\n",
    "import seaborn as sns\n",
    "from scipy.stats import zscore"
   ]
  },
  {
   "cell_type": "markdown",
   "id": "47ef53cc",
   "metadata": {
    "id": "6GUy9IkRg2Nx",
    "papermill": {
     "duration": 0.049004,
     "end_time": "2022-01-03T17:22:11.582326",
     "exception": false,
     "start_time": "2022-01-03T17:22:11.533322",
     "status": "completed"
    },
    "tags": []
   },
   "source": [
    "### Importar datos"
   ]
  },
  {
   "cell_type": "markdown",
   "id": "628fae08",
   "metadata": {
    "id": "PRprNoZ1QpEf",
    "papermill": {
     "duration": 0.048119,
     "end_time": "2022-01-03T17:22:11.678706",
     "exception": false,
     "start_time": "2022-01-03T17:22:11.630587",
     "status": "completed"
    },
    "tags": []
   },
   "source": [
    "Se importa el dataset al entorno de trabajo"
   ]
  },
  {
   "cell_type": "code",
   "execution_count": 2,
   "id": "c7904da6",
   "metadata": {
    "execution": {
     "iopub.execute_input": "2022-01-03T17:22:11.779455Z",
     "iopub.status.busy": "2022-01-03T17:22:11.778763Z",
     "iopub.status.idle": "2022-01-03T17:22:11.861395Z",
     "shell.execute_reply": "2022-01-03T17:22:11.860891Z",
     "shell.execute_reply.started": "2022-01-03T16:51:47.260775Z"
    },
    "id": "hOekSb7cMPll",
    "outputId": "501d5e7c-7426-43cb-d7a5-6f0e85eb3a9b",
    "papermill": {
     "duration": 0.133997,
     "end_time": "2022-01-03T17:22:11.861538",
     "exception": false,
     "start_time": "2022-01-03T17:22:11.727541",
     "status": "completed"
    },
    "tags": []
   },
   "outputs": [
    {
     "data": {
      "text/html": [
       "<div>\n",
       "<style scoped>\n",
       "    .dataframe tbody tr th:only-of-type {\n",
       "        vertical-align: middle;\n",
       "    }\n",
       "\n",
       "    .dataframe tbody tr th {\n",
       "        vertical-align: top;\n",
       "    }\n",
       "\n",
       "    .dataframe thead th {\n",
       "        text-align: right;\n",
       "    }\n",
       "</style>\n",
       "<table border=\"1\" class=\"dataframe\">\n",
       "  <thead>\n",
       "    <tr style=\"text-align: right;\">\n",
       "      <th></th>\n",
       "      <th>ph</th>\n",
       "      <th>Hardness</th>\n",
       "      <th>Solids</th>\n",
       "      <th>Chloramines</th>\n",
       "      <th>Sulfate</th>\n",
       "      <th>Conductivity</th>\n",
       "      <th>Organic_carbon</th>\n",
       "      <th>Trihalomethanes</th>\n",
       "      <th>Turbidity</th>\n",
       "      <th>Potability</th>\n",
       "    </tr>\n",
       "  </thead>\n",
       "  <tbody>\n",
       "    <tr>\n",
       "      <th>0</th>\n",
       "      <td>NaN</td>\n",
       "      <td>204.890455</td>\n",
       "      <td>20791.318981</td>\n",
       "      <td>7.300212</td>\n",
       "      <td>368.516441</td>\n",
       "      <td>564.308654</td>\n",
       "      <td>10.379783</td>\n",
       "      <td>86.990970</td>\n",
       "      <td>2.963135</td>\n",
       "      <td>0</td>\n",
       "    </tr>\n",
       "    <tr>\n",
       "      <th>1</th>\n",
       "      <td>3.716080</td>\n",
       "      <td>129.422921</td>\n",
       "      <td>18630.057858</td>\n",
       "      <td>6.635246</td>\n",
       "      <td>NaN</td>\n",
       "      <td>592.885359</td>\n",
       "      <td>15.180013</td>\n",
       "      <td>56.329076</td>\n",
       "      <td>4.500656</td>\n",
       "      <td>0</td>\n",
       "    </tr>\n",
       "    <tr>\n",
       "      <th>2</th>\n",
       "      <td>8.099124</td>\n",
       "      <td>224.236259</td>\n",
       "      <td>19909.541732</td>\n",
       "      <td>9.275884</td>\n",
       "      <td>NaN</td>\n",
       "      <td>418.606213</td>\n",
       "      <td>16.868637</td>\n",
       "      <td>66.420093</td>\n",
       "      <td>3.055934</td>\n",
       "      <td>0</td>\n",
       "    </tr>\n",
       "    <tr>\n",
       "      <th>3</th>\n",
       "      <td>8.316766</td>\n",
       "      <td>214.373394</td>\n",
       "      <td>22018.417441</td>\n",
       "      <td>8.059332</td>\n",
       "      <td>356.886136</td>\n",
       "      <td>363.266516</td>\n",
       "      <td>18.436524</td>\n",
       "      <td>100.341674</td>\n",
       "      <td>4.628771</td>\n",
       "      <td>0</td>\n",
       "    </tr>\n",
       "    <tr>\n",
       "      <th>4</th>\n",
       "      <td>9.092223</td>\n",
       "      <td>181.101509</td>\n",
       "      <td>17978.986339</td>\n",
       "      <td>6.546600</td>\n",
       "      <td>310.135738</td>\n",
       "      <td>398.410813</td>\n",
       "      <td>11.558279</td>\n",
       "      <td>31.997993</td>\n",
       "      <td>4.075075</td>\n",
       "      <td>0</td>\n",
       "    </tr>\n",
       "    <tr>\n",
       "      <th>...</th>\n",
       "      <td>...</td>\n",
       "      <td>...</td>\n",
       "      <td>...</td>\n",
       "      <td>...</td>\n",
       "      <td>...</td>\n",
       "      <td>...</td>\n",
       "      <td>...</td>\n",
       "      <td>...</td>\n",
       "      <td>...</td>\n",
       "      <td>...</td>\n",
       "    </tr>\n",
       "    <tr>\n",
       "      <th>3271</th>\n",
       "      <td>4.668102</td>\n",
       "      <td>193.681735</td>\n",
       "      <td>47580.991603</td>\n",
       "      <td>7.166639</td>\n",
       "      <td>359.948574</td>\n",
       "      <td>526.424171</td>\n",
       "      <td>13.894419</td>\n",
       "      <td>66.687695</td>\n",
       "      <td>4.435821</td>\n",
       "      <td>1</td>\n",
       "    </tr>\n",
       "    <tr>\n",
       "      <th>3272</th>\n",
       "      <td>7.808856</td>\n",
       "      <td>193.553212</td>\n",
       "      <td>17329.802160</td>\n",
       "      <td>8.061362</td>\n",
       "      <td>NaN</td>\n",
       "      <td>392.449580</td>\n",
       "      <td>19.903225</td>\n",
       "      <td>NaN</td>\n",
       "      <td>2.798243</td>\n",
       "      <td>1</td>\n",
       "    </tr>\n",
       "    <tr>\n",
       "      <th>3273</th>\n",
       "      <td>9.419510</td>\n",
       "      <td>175.762646</td>\n",
       "      <td>33155.578218</td>\n",
       "      <td>7.350233</td>\n",
       "      <td>NaN</td>\n",
       "      <td>432.044783</td>\n",
       "      <td>11.039070</td>\n",
       "      <td>69.845400</td>\n",
       "      <td>3.298875</td>\n",
       "      <td>1</td>\n",
       "    </tr>\n",
       "    <tr>\n",
       "      <th>3274</th>\n",
       "      <td>5.126763</td>\n",
       "      <td>230.603758</td>\n",
       "      <td>11983.869376</td>\n",
       "      <td>6.303357</td>\n",
       "      <td>NaN</td>\n",
       "      <td>402.883113</td>\n",
       "      <td>11.168946</td>\n",
       "      <td>77.488213</td>\n",
       "      <td>4.708658</td>\n",
       "      <td>1</td>\n",
       "    </tr>\n",
       "    <tr>\n",
       "      <th>3275</th>\n",
       "      <td>7.874671</td>\n",
       "      <td>195.102299</td>\n",
       "      <td>17404.177061</td>\n",
       "      <td>7.509306</td>\n",
       "      <td>NaN</td>\n",
       "      <td>327.459760</td>\n",
       "      <td>16.140368</td>\n",
       "      <td>78.698446</td>\n",
       "      <td>2.309149</td>\n",
       "      <td>1</td>\n",
       "    </tr>\n",
       "  </tbody>\n",
       "</table>\n",
       "<p>3276 rows × 10 columns</p>\n",
       "</div>"
      ],
      "text/plain": [
       "            ph    Hardness        Solids  Chloramines     Sulfate  \\\n",
       "0          NaN  204.890455  20791.318981     7.300212  368.516441   \n",
       "1     3.716080  129.422921  18630.057858     6.635246         NaN   \n",
       "2     8.099124  224.236259  19909.541732     9.275884         NaN   \n",
       "3     8.316766  214.373394  22018.417441     8.059332  356.886136   \n",
       "4     9.092223  181.101509  17978.986339     6.546600  310.135738   \n",
       "...        ...         ...           ...          ...         ...   \n",
       "3271  4.668102  193.681735  47580.991603     7.166639  359.948574   \n",
       "3272  7.808856  193.553212  17329.802160     8.061362         NaN   \n",
       "3273  9.419510  175.762646  33155.578218     7.350233         NaN   \n",
       "3274  5.126763  230.603758  11983.869376     6.303357         NaN   \n",
       "3275  7.874671  195.102299  17404.177061     7.509306         NaN   \n",
       "\n",
       "      Conductivity  Organic_carbon  Trihalomethanes  Turbidity  Potability  \n",
       "0       564.308654       10.379783        86.990970   2.963135           0  \n",
       "1       592.885359       15.180013        56.329076   4.500656           0  \n",
       "2       418.606213       16.868637        66.420093   3.055934           0  \n",
       "3       363.266516       18.436524       100.341674   4.628771           0  \n",
       "4       398.410813       11.558279        31.997993   4.075075           0  \n",
       "...            ...             ...              ...        ...         ...  \n",
       "3271    526.424171       13.894419        66.687695   4.435821           1  \n",
       "3272    392.449580       19.903225              NaN   2.798243           1  \n",
       "3273    432.044783       11.039070        69.845400   3.298875           1  \n",
       "3274    402.883113       11.168946        77.488213   4.708658           1  \n",
       "3275    327.459760       16.140368        78.698446   2.309149           1  \n",
       "\n",
       "[3276 rows x 10 columns]"
      ]
     },
     "execution_count": 2,
     "metadata": {},
     "output_type": "execute_result"
    }
   ],
   "source": [
    "data_set = pd.read_csv('../input/water-potability/water_potability.csv') \n",
    "data_set"
   ]
  },
  {
   "cell_type": "markdown",
   "id": "e11d62c9",
   "metadata": {
    "id": "1FRC0WM1hIcw",
    "papermill": {
     "duration": 0.049524,
     "end_time": "2022-01-03T17:22:11.960919",
     "exception": false,
     "start_time": "2022-01-03T17:22:11.911395",
     "status": "completed"
    },
    "tags": []
   },
   "source": [
    "### Limpieza de datos corruptos"
   ]
  },
  {
   "cell_type": "markdown",
   "id": "fe133270",
   "metadata": {
    "id": "qu5qBlKqRqx0",
    "papermill": {
     "duration": 0.050809,
     "end_time": "2022-01-03T17:22:12.061782",
     "exception": false,
     "start_time": "2022-01-03T17:22:12.010973",
     "status": "completed"
    },
    "tags": []
   },
   "source": [
    "Se revisa el formato de los datos que contiene cada columna"
   ]
  },
  {
   "cell_type": "code",
   "execution_count": 3,
   "id": "10c16764",
   "metadata": {
    "execution": {
     "iopub.execute_input": "2022-01-03T17:22:12.184715Z",
     "iopub.status.busy": "2022-01-03T17:22:12.167127Z",
     "iopub.status.idle": "2022-01-03T17:22:12.190555Z",
     "shell.execute_reply": "2022-01-03T17:22:12.189453Z",
     "shell.execute_reply.started": "2022-01-03T16:51:47.299958Z"
    },
    "id": "mFRxup9RSTPp",
    "outputId": "b23d9a6c-4c20-4bdf-dc85-a061f3f2c7bf",
    "papermill": {
     "duration": 0.079236,
     "end_time": "2022-01-03T17:22:12.190821",
     "exception": false,
     "start_time": "2022-01-03T17:22:12.111585",
     "status": "completed"
    },
    "tags": []
   },
   "outputs": [
    {
     "name": "stdout",
     "output_type": "stream",
     "text": [
      "<class 'pandas.core.frame.DataFrame'>\n",
      "RangeIndex: 3276 entries, 0 to 3275\n",
      "Data columns (total 10 columns):\n",
      " #   Column           Non-Null Count  Dtype  \n",
      "---  ------           --------------  -----  \n",
      " 0   ph               2785 non-null   float64\n",
      " 1   Hardness         3276 non-null   float64\n",
      " 2   Solids           3276 non-null   float64\n",
      " 3   Chloramines      3276 non-null   float64\n",
      " 4   Sulfate          2495 non-null   float64\n",
      " 5   Conductivity     3276 non-null   float64\n",
      " 6   Organic_carbon   3276 non-null   float64\n",
      " 7   Trihalomethanes  3114 non-null   float64\n",
      " 8   Turbidity        3276 non-null   float64\n",
      " 9   Potability       3276 non-null   int64  \n",
      "dtypes: float64(9), int64(1)\n",
      "memory usage: 256.1 KB\n"
     ]
    }
   ],
   "source": [
    "data_set.info()"
   ]
  },
  {
   "cell_type": "markdown",
   "id": "304d746c",
   "metadata": {
    "id": "2l44w2kXSitJ",
    "papermill": {
     "duration": 0.050578,
     "end_time": "2022-01-03T17:22:12.293456",
     "exception": false,
     "start_time": "2022-01-03T17:22:12.242878",
     "status": "completed"
    },
    "tags": []
   },
   "source": [
    "Se revisa por el número de valores NaN en cada columna"
   ]
  },
  {
   "cell_type": "code",
   "execution_count": 4,
   "id": "619f615b",
   "metadata": {
    "execution": {
     "iopub.execute_input": "2022-01-03T17:22:12.396402Z",
     "iopub.status.busy": "2022-01-03T17:22:12.395734Z",
     "iopub.status.idle": "2022-01-03T17:22:12.404321Z",
     "shell.execute_reply": "2022-01-03T17:22:12.403731Z",
     "shell.execute_reply.started": "2022-01-03T16:51:47.327468Z"
    },
    "id": "MO_a5XkESpnh",
    "outputId": "f22ba420-cf6b-4ce8-a0d3-418f9b9c32cc",
    "papermill": {
     "duration": 0.060967,
     "end_time": "2022-01-03T17:22:12.404465",
     "exception": false,
     "start_time": "2022-01-03T17:22:12.343498",
     "status": "completed"
    },
    "tags": []
   },
   "outputs": [
    {
     "data": {
      "text/plain": [
       "ph                 491\n",
       "Hardness             0\n",
       "Solids               0\n",
       "Chloramines          0\n",
       "Sulfate            781\n",
       "Conductivity         0\n",
       "Organic_carbon       0\n",
       "Trihalomethanes    162\n",
       "Turbidity            0\n",
       "Potability           0\n",
       "dtype: int64"
      ]
     },
     "execution_count": 4,
     "metadata": {},
     "output_type": "execute_result"
    }
   ],
   "source": [
    "data_set.isnull().sum()"
   ]
  },
  {
   "cell_type": "markdown",
   "id": "760cc66d",
   "metadata": {
    "id": "9iJch7MsS29d",
    "papermill": {
     "duration": 0.049198,
     "end_time": "2022-01-03T17:22:12.504100",
     "exception": false,
     "start_time": "2022-01-03T17:22:12.454902",
     "status": "completed"
    },
    "tags": []
   },
   "source": [
    "Se limpian los valores NaN, reemplazandolos con el valor medio de su respectiva columna."
   ]
  },
  {
   "cell_type": "code",
   "execution_count": 5,
   "id": "3724f9f9",
   "metadata": {
    "execution": {
     "iopub.execute_input": "2022-01-03T17:22:12.606065Z",
     "iopub.status.busy": "2022-01-03T17:22:12.605417Z",
     "iopub.status.idle": "2022-01-03T17:22:12.613022Z",
     "shell.execute_reply": "2022-01-03T17:22:12.613561Z",
     "shell.execute_reply.started": "2022-01-03T16:51:47.337134Z"
    },
    "id": "cawFyaM1S7-1",
    "papermill": {
     "duration": 0.060379,
     "end_time": "2022-01-03T17:22:12.613747",
     "exception": false,
     "start_time": "2022-01-03T17:22:12.553368",
     "status": "completed"
    },
    "tags": []
   },
   "outputs": [],
   "source": [
    "data_set = data_set.fillna(data_set.mean())"
   ]
  },
  {
   "cell_type": "markdown",
   "id": "ea43a51c",
   "metadata": {
    "id": "KT9SIduRVCT6",
    "papermill": {
     "duration": 0.049311,
     "end_time": "2022-01-03T17:22:12.714949",
     "exception": false,
     "start_time": "2022-01-03T17:22:12.665638",
     "status": "completed"
    },
    "tags": []
   },
   "source": [
    "Se vuelve a revisar por valores NaN en el data set"
   ]
  },
  {
   "cell_type": "code",
   "execution_count": 6,
   "id": "ffa7aa06",
   "metadata": {
    "execution": {
     "iopub.execute_input": "2022-01-03T17:22:12.822066Z",
     "iopub.status.busy": "2022-01-03T17:22:12.821385Z",
     "iopub.status.idle": "2022-01-03T17:22:12.823967Z",
     "shell.execute_reply": "2022-01-03T17:22:12.824439Z",
     "shell.execute_reply.started": "2022-01-03T16:51:47.351448Z"
    },
    "id": "pUf5etOkUyhO",
    "outputId": "3adc36f3-e2b0-455d-ebe9-73b31c3687af",
    "papermill": {
     "duration": 0.060157,
     "end_time": "2022-01-03T17:22:12.824606",
     "exception": false,
     "start_time": "2022-01-03T17:22:12.764449",
     "status": "completed"
    },
    "tags": []
   },
   "outputs": [
    {
     "data": {
      "text/plain": [
       "ph                 0\n",
       "Hardness           0\n",
       "Solids             0\n",
       "Chloramines        0\n",
       "Sulfate            0\n",
       "Conductivity       0\n",
       "Organic_carbon     0\n",
       "Trihalomethanes    0\n",
       "Turbidity          0\n",
       "Potability         0\n",
       "dtype: int64"
      ]
     },
     "execution_count": 6,
     "metadata": {},
     "output_type": "execute_result"
    }
   ],
   "source": [
    "data_set.isnull().sum()"
   ]
  },
  {
   "cell_type": "markdown",
   "id": "11d8b55b",
   "metadata": {
    "id": "5oQaephzhtTH",
    "papermill": {
     "duration": 0.049259,
     "end_time": "2022-01-03T17:22:12.923409",
     "exception": false,
     "start_time": "2022-01-03T17:22:12.874150",
     "status": "completed"
    },
    "tags": []
   },
   "source": [
    "### Eliminación de outliers"
   ]
  },
  {
   "cell_type": "markdown",
   "id": "6d187a47",
   "metadata": {
    "id": "EY9vq9qfZ6n0",
    "papermill": {
     "duration": 0.051116,
     "end_time": "2022-01-03T17:22:13.024699",
     "exception": false,
     "start_time": "2022-01-03T17:22:12.973583",
     "status": "completed"
    },
    "tags": []
   },
   "source": [
    "Se normalizan los datos con el metodo Min-Max"
   ]
  },
  {
   "cell_type": "code",
   "execution_count": 7,
   "id": "c4374321",
   "metadata": {
    "execution": {
     "iopub.execute_input": "2022-01-03T17:22:13.130010Z",
     "iopub.status.busy": "2022-01-03T17:22:13.129328Z",
     "iopub.status.idle": "2022-01-03T17:22:13.153440Z",
     "shell.execute_reply": "2022-01-03T17:22:13.152759Z",
     "shell.execute_reply.started": "2022-01-03T16:51:47.367377Z"
    },
    "id": "vIQeo0LZZ6EE",
    "outputId": "672a7695-0095-4d90-adec-cab7a2740d1a",
    "papermill": {
     "duration": 0.078546,
     "end_time": "2022-01-03T17:22:13.153761",
     "exception": false,
     "start_time": "2022-01-03T17:22:13.075215",
     "status": "completed"
    },
    "tags": []
   },
   "outputs": [
    {
     "data": {
      "text/html": [
       "<div>\n",
       "<style scoped>\n",
       "    .dataframe tbody tr th:only-of-type {\n",
       "        vertical-align: middle;\n",
       "    }\n",
       "\n",
       "    .dataframe tbody tr th {\n",
       "        vertical-align: top;\n",
       "    }\n",
       "\n",
       "    .dataframe thead th {\n",
       "        text-align: right;\n",
       "    }\n",
       "</style>\n",
       "<table border=\"1\" class=\"dataframe\">\n",
       "  <thead>\n",
       "    <tr style=\"text-align: right;\">\n",
       "      <th></th>\n",
       "      <th>ph</th>\n",
       "      <th>Hardness</th>\n",
       "      <th>Solids</th>\n",
       "      <th>Chloramines</th>\n",
       "      <th>Sulfate</th>\n",
       "      <th>Conductivity</th>\n",
       "      <th>Organic_carbon</th>\n",
       "      <th>Trihalomethanes</th>\n",
       "      <th>Turbidity</th>\n",
       "      <th>Potability</th>\n",
       "    </tr>\n",
       "  </thead>\n",
       "  <tbody>\n",
       "    <tr>\n",
       "      <th>0</th>\n",
       "      <td>0.505771</td>\n",
       "      <td>0.571139</td>\n",
       "      <td>0.336096</td>\n",
       "      <td>0.543891</td>\n",
       "      <td>0.680385</td>\n",
       "      <td>0.669439</td>\n",
       "      <td>0.313402</td>\n",
       "      <td>0.699753</td>\n",
       "      <td>0.286091</td>\n",
       "      <td>0.0</td>\n",
       "    </tr>\n",
       "    <tr>\n",
       "      <th>1</th>\n",
       "      <td>0.265434</td>\n",
       "      <td>0.297400</td>\n",
       "      <td>0.300611</td>\n",
       "      <td>0.491839</td>\n",
       "      <td>0.581699</td>\n",
       "      <td>0.719411</td>\n",
       "      <td>0.497319</td>\n",
       "      <td>0.450999</td>\n",
       "      <td>0.576793</td>\n",
       "      <td>0.0</td>\n",
       "    </tr>\n",
       "    <tr>\n",
       "      <th>2</th>\n",
       "      <td>0.578509</td>\n",
       "      <td>0.641311</td>\n",
       "      <td>0.321619</td>\n",
       "      <td>0.698543</td>\n",
       "      <td>0.581699</td>\n",
       "      <td>0.414652</td>\n",
       "      <td>0.562017</td>\n",
       "      <td>0.532866</td>\n",
       "      <td>0.303637</td>\n",
       "      <td>0.0</td>\n",
       "    </tr>\n",
       "    <tr>\n",
       "      <th>3</th>\n",
       "      <td>0.594055</td>\n",
       "      <td>0.605536</td>\n",
       "      <td>0.356244</td>\n",
       "      <td>0.603314</td>\n",
       "      <td>0.647347</td>\n",
       "      <td>0.317880</td>\n",
       "      <td>0.622089</td>\n",
       "      <td>0.808065</td>\n",
       "      <td>0.601015</td>\n",
       "      <td>0.0</td>\n",
       "    </tr>\n",
       "    <tr>\n",
       "      <th>4</th>\n",
       "      <td>0.649445</td>\n",
       "      <td>0.484851</td>\n",
       "      <td>0.289922</td>\n",
       "      <td>0.484900</td>\n",
       "      <td>0.514545</td>\n",
       "      <td>0.379337</td>\n",
       "      <td>0.358555</td>\n",
       "      <td>0.253606</td>\n",
       "      <td>0.496327</td>\n",
       "      <td>0.0</td>\n",
       "    </tr>\n",
       "    <tr>\n",
       "      <th>...</th>\n",
       "      <td>...</td>\n",
       "      <td>...</td>\n",
       "      <td>...</td>\n",
       "      <td>...</td>\n",
       "      <td>...</td>\n",
       "      <td>...</td>\n",
       "      <td>...</td>\n",
       "      <td>...</td>\n",
       "      <td>...</td>\n",
       "      <td>...</td>\n",
       "    </tr>\n",
       "    <tr>\n",
       "      <th>3271</th>\n",
       "      <td>0.333436</td>\n",
       "      <td>0.530482</td>\n",
       "      <td>0.775947</td>\n",
       "      <td>0.533436</td>\n",
       "      <td>0.656047</td>\n",
       "      <td>0.603192</td>\n",
       "      <td>0.448062</td>\n",
       "      <td>0.535037</td>\n",
       "      <td>0.564534</td>\n",
       "      <td>1.0</td>\n",
       "    </tr>\n",
       "    <tr>\n",
       "      <th>3272</th>\n",
       "      <td>0.557775</td>\n",
       "      <td>0.530016</td>\n",
       "      <td>0.279263</td>\n",
       "      <td>0.603473</td>\n",
       "      <td>0.581699</td>\n",
       "      <td>0.368912</td>\n",
       "      <td>0.678284</td>\n",
       "      <td>0.532673</td>\n",
       "      <td>0.254915</td>\n",
       "      <td>1.0</td>\n",
       "    </tr>\n",
       "    <tr>\n",
       "      <th>3273</th>\n",
       "      <td>0.672822</td>\n",
       "      <td>0.465486</td>\n",
       "      <td>0.539101</td>\n",
       "      <td>0.547807</td>\n",
       "      <td>0.581699</td>\n",
       "      <td>0.438152</td>\n",
       "      <td>0.338662</td>\n",
       "      <td>0.560655</td>\n",
       "      <td>0.349570</td>\n",
       "      <td>1.0</td>\n",
       "    </tr>\n",
       "    <tr>\n",
       "      <th>3274</th>\n",
       "      <td>0.366197</td>\n",
       "      <td>0.664407</td>\n",
       "      <td>0.191490</td>\n",
       "      <td>0.465860</td>\n",
       "      <td>0.581699</td>\n",
       "      <td>0.387157</td>\n",
       "      <td>0.343638</td>\n",
       "      <td>0.622659</td>\n",
       "      <td>0.616120</td>\n",
       "      <td>1.0</td>\n",
       "    </tr>\n",
       "    <tr>\n",
       "      <th>3275</th>\n",
       "      <td>0.562477</td>\n",
       "      <td>0.535635</td>\n",
       "      <td>0.280484</td>\n",
       "      <td>0.560259</td>\n",
       "      <td>0.581699</td>\n",
       "      <td>0.255266</td>\n",
       "      <td>0.534114</td>\n",
       "      <td>0.632478</td>\n",
       "      <td>0.162441</td>\n",
       "      <td>1.0</td>\n",
       "    </tr>\n",
       "  </tbody>\n",
       "</table>\n",
       "<p>3276 rows × 10 columns</p>\n",
       "</div>"
      ],
      "text/plain": [
       "            ph  Hardness    Solids  Chloramines   Sulfate  Conductivity  \\\n",
       "0     0.505771  0.571139  0.336096     0.543891  0.680385      0.669439   \n",
       "1     0.265434  0.297400  0.300611     0.491839  0.581699      0.719411   \n",
       "2     0.578509  0.641311  0.321619     0.698543  0.581699      0.414652   \n",
       "3     0.594055  0.605536  0.356244     0.603314  0.647347      0.317880   \n",
       "4     0.649445  0.484851  0.289922     0.484900  0.514545      0.379337   \n",
       "...        ...       ...       ...          ...       ...           ...   \n",
       "3271  0.333436  0.530482  0.775947     0.533436  0.656047      0.603192   \n",
       "3272  0.557775  0.530016  0.279263     0.603473  0.581699      0.368912   \n",
       "3273  0.672822  0.465486  0.539101     0.547807  0.581699      0.438152   \n",
       "3274  0.366197  0.664407  0.191490     0.465860  0.581699      0.387157   \n",
       "3275  0.562477  0.535635  0.280484     0.560259  0.581699      0.255266   \n",
       "\n",
       "      Organic_carbon  Trihalomethanes  Turbidity  Potability  \n",
       "0           0.313402         0.699753   0.286091         0.0  \n",
       "1           0.497319         0.450999   0.576793         0.0  \n",
       "2           0.562017         0.532866   0.303637         0.0  \n",
       "3           0.622089         0.808065   0.601015         0.0  \n",
       "4           0.358555         0.253606   0.496327         0.0  \n",
       "...              ...              ...        ...         ...  \n",
       "3271        0.448062         0.535037   0.564534         1.0  \n",
       "3272        0.678284         0.532673   0.254915         1.0  \n",
       "3273        0.338662         0.560655   0.349570         1.0  \n",
       "3274        0.343638         0.622659   0.616120         1.0  \n",
       "3275        0.534114         0.632478   0.162441         1.0  \n",
       "\n",
       "[3276 rows x 10 columns]"
      ]
     },
     "execution_count": 7,
     "metadata": {},
     "output_type": "execute_result"
    }
   ],
   "source": [
    "data_set = (data_set - data_set.min()) / (data_set.max() - data_set.min())\n",
    "data_set"
   ]
  },
  {
   "cell_type": "markdown",
   "id": "e54093c4",
   "metadata": {
    "id": "UPlt_gs6Vm3d",
    "papermill": {
     "duration": 0.050762,
     "end_time": "2022-01-03T17:22:13.255895",
     "exception": false,
     "start_time": "2022-01-03T17:22:13.205133",
     "status": "completed"
    },
    "tags": []
   },
   "source": [
    "Se revisan las variables del dataset en busca de outliers, para esto se utiliza el grafico boxplot de cada columna del data set"
   ]
  },
  {
   "cell_type": "code",
   "execution_count": 8,
   "id": "81ef3e0d",
   "metadata": {
    "execution": {
     "iopub.execute_input": "2022-01-03T17:22:13.363604Z",
     "iopub.status.busy": "2022-01-03T17:22:13.362329Z",
     "iopub.status.idle": "2022-01-03T17:22:13.790771Z",
     "shell.execute_reply": "2022-01-03T17:22:13.791273Z",
     "shell.execute_reply.started": "2022-01-03T16:51:47.397271Z"
    },
    "id": "rKgRDR7NZVGC",
    "outputId": "0ddd3bc5-e35c-47eb-a65e-4452639cd18d",
    "papermill": {
     "duration": 0.484904,
     "end_time": "2022-01-03T17:22:13.791455",
     "exception": false,
     "start_time": "2022-01-03T17:22:13.306551",
     "status": "completed"
    },
    "tags": []
   },
   "outputs": [
    {
     "data": {
      "image/png": "[encoded data removed]",
      "text/plain": [
       "<Figure size 1296x576 with 1 Axes>"
      ]
     },
     "metadata": {
      "needs_background": "light"
     },
     "output_type": "display_data"
    }
   ],
   "source": [
    "data_set.plot(kind = 'box',\n",
    "              figsize = (18,8)\n",
    ")\n",
    "plt.grid()"
   ]
  },
  {
   "cell_type": "markdown",
   "id": "5fe517be",
   "metadata": {
    "id": "aYKqQhJQbcbB",
    "papermill": {
     "duration": 0.052962,
     "end_time": "2022-01-03T17:22:13.899424",
     "exception": false,
     "start_time": "2022-01-03T17:22:13.846462",
     "status": "completed"
    },
    "tags": []
   },
   "source": [
    "Se limpian los outliers por el metodo Z-Scores, el cual elimina filas que contengan valores en alguna columna alejados un cierto número de desviaciones estandar de la media de la respectiva columna."
   ]
  },
  {
   "cell_type": "code",
   "execution_count": 9,
   "id": "63e4b727",
   "metadata": {
    "execution": {
     "iopub.execute_input": "2022-01-03T17:22:14.009686Z",
     "iopub.status.busy": "2022-01-03T17:22:14.006967Z",
     "iopub.status.idle": "2022-01-03T17:22:14.018277Z",
     "shell.execute_reply": "2022-01-03T17:22:14.017574Z",
     "shell.execute_reply.started": "2022-01-03T16:51:47.793360Z"
    },
    "id": "4DyyfOGvbYB9",
    "papermill": {
     "duration": 0.067238,
     "end_time": "2022-01-03T17:22:14.018429",
     "exception": false,
     "start_time": "2022-01-03T17:22:13.951191",
     "status": "completed"
    },
    "tags": []
   },
   "outputs": [],
   "source": [
    "z_scores = zscore(data_set)\n",
    "Datos_limpios = (np.abs(z_scores) < 2.8).all(axis=1)\n",
    "data_set = data_set[Datos_limpios]"
   ]
  },
  {
   "cell_type": "markdown",
   "id": "e2d6440f",
   "metadata": {
    "id": "CyIO6h3qcg8w",
    "papermill": {
     "duration": 0.05203,
     "end_time": "2022-01-03T17:22:14.123263",
     "exception": false,
     "start_time": "2022-01-03T17:22:14.071233",
     "status": "completed"
    },
    "tags": []
   },
   "source": [
    "Se revisa una vez mas el gráfico de boxplot"
   ]
  },
  {
   "cell_type": "code",
   "execution_count": 10,
   "id": "9fa8fd88",
   "metadata": {
    "execution": {
     "iopub.execute_input": "2022-01-03T17:22:14.233440Z",
     "iopub.status.busy": "2022-01-03T17:22:14.231638Z",
     "iopub.status.idle": "2022-01-03T17:22:14.599194Z",
     "shell.execute_reply": "2022-01-03T17:22:14.598603Z",
     "shell.execute_reply.started": "2022-01-03T16:51:47.806609Z"
    },
    "id": "5imQOTAze8Cw",
    "outputId": "a65091d9-c672-4b1b-9f0e-ecba47a504a0",
    "papermill": {
     "duration": 0.42391,
     "end_time": "2022-01-03T17:22:14.599339",
     "exception": false,
     "start_time": "2022-01-03T17:22:14.175429",
     "status": "completed"
    },
    "tags": []
   },
   "outputs": [
    {
     "data": {
      "image/png": "[encoded data removed]",
      "text/plain": [
       "<Figure size 1296x576 with 1 Axes>"
      ]
     },
     "metadata": {
      "needs_background": "light"
     },
     "output_type": "display_data"
    }
   ],
   "source": [
    "data_set.plot(kind = 'box',\n",
    "                figsize = (18,8)\n",
    ")\n",
    "plt.grid()"
   ]
  },
  {
   "cell_type": "markdown",
   "id": "906d5609",
   "metadata": {
    "id": "oInyKq4hfn-2",
    "papermill": {
     "duration": 0.05274,
     "end_time": "2022-01-03T17:22:14.706309",
     "exception": false,
     "start_time": "2022-01-03T17:22:14.653569",
     "status": "completed"
    },
    "tags": []
   },
   "source": [
    "Se imprime el data set una vez ya limpio"
   ]
  },
  {
   "cell_type": "code",
   "execution_count": 11,
   "id": "693bbcd1",
   "metadata": {
    "execution": {
     "iopub.execute_input": "2022-01-03T17:22:14.835658Z",
     "iopub.status.busy": "2022-01-03T17:22:14.834782Z",
     "iopub.status.idle": "2022-01-03T17:22:14.839221Z",
     "shell.execute_reply": "2022-01-03T17:22:14.838636Z",
     "shell.execute_reply.started": "2022-01-03T16:51:48.170005Z"
    },
    "id": "YP_XqxwqfoH3",
    "outputId": "6132fe8e-41ce-4c79-8b9f-27bce0a8b8f7",
    "papermill": {
     "duration": 0.078924,
     "end_time": "2022-01-03T17:22:14.839361",
     "exception": false,
     "start_time": "2022-01-03T17:22:14.760437",
     "status": "completed"
    },
    "tags": []
   },
   "outputs": [
    {
     "data": {
      "text/html": [
       "<div>\n",
       "<style scoped>\n",
       "    .dataframe tbody tr th:only-of-type {\n",
       "        vertical-align: middle;\n",
       "    }\n",
       "\n",
       "    .dataframe tbody tr th {\n",
       "        vertical-align: top;\n",
       "    }\n",
       "\n",
       "    .dataframe thead th {\n",
       "        text-align: right;\n",
       "    }\n",
       "</style>\n",
       "<table border=\"1\" class=\"dataframe\">\n",
       "  <thead>\n",
       "    <tr style=\"text-align: right;\">\n",
       "      <th></th>\n",
       "      <th>ph</th>\n",
       "      <th>Hardness</th>\n",
       "      <th>Solids</th>\n",
       "      <th>Chloramines</th>\n",
       "      <th>Sulfate</th>\n",
       "      <th>Conductivity</th>\n",
       "      <th>Organic_carbon</th>\n",
       "      <th>Trihalomethanes</th>\n",
       "      <th>Turbidity</th>\n",
       "      <th>Potability</th>\n",
       "    </tr>\n",
       "  </thead>\n",
       "  <tbody>\n",
       "    <tr>\n",
       "      <th>0</th>\n",
       "      <td>0.505771</td>\n",
       "      <td>0.571139</td>\n",
       "      <td>0.336096</td>\n",
       "      <td>0.543891</td>\n",
       "      <td>0.680385</td>\n",
       "      <td>0.669439</td>\n",
       "      <td>0.313402</td>\n",
       "      <td>0.699753</td>\n",
       "      <td>0.286091</td>\n",
       "      <td>0.0</td>\n",
       "    </tr>\n",
       "    <tr>\n",
       "      <th>1</th>\n",
       "      <td>0.265434</td>\n",
       "      <td>0.297400</td>\n",
       "      <td>0.300611</td>\n",
       "      <td>0.491839</td>\n",
       "      <td>0.581699</td>\n",
       "      <td>0.719411</td>\n",
       "      <td>0.497319</td>\n",
       "      <td>0.450999</td>\n",
       "      <td>0.576793</td>\n",
       "      <td>0.0</td>\n",
       "    </tr>\n",
       "    <tr>\n",
       "      <th>2</th>\n",
       "      <td>0.578509</td>\n",
       "      <td>0.641311</td>\n",
       "      <td>0.321619</td>\n",
       "      <td>0.698543</td>\n",
       "      <td>0.581699</td>\n",
       "      <td>0.414652</td>\n",
       "      <td>0.562017</td>\n",
       "      <td>0.532866</td>\n",
       "      <td>0.303637</td>\n",
       "      <td>0.0</td>\n",
       "    </tr>\n",
       "    <tr>\n",
       "      <th>3</th>\n",
       "      <td>0.594055</td>\n",
       "      <td>0.605536</td>\n",
       "      <td>0.356244</td>\n",
       "      <td>0.603314</td>\n",
       "      <td>0.647347</td>\n",
       "      <td>0.317880</td>\n",
       "      <td>0.622089</td>\n",
       "      <td>0.808065</td>\n",
       "      <td>0.601015</td>\n",
       "      <td>0.0</td>\n",
       "    </tr>\n",
       "    <tr>\n",
       "      <th>4</th>\n",
       "      <td>0.649445</td>\n",
       "      <td>0.484851</td>\n",
       "      <td>0.289922</td>\n",
       "      <td>0.484900</td>\n",
       "      <td>0.514545</td>\n",
       "      <td>0.379337</td>\n",
       "      <td>0.358555</td>\n",
       "      <td>0.253606</td>\n",
       "      <td>0.496327</td>\n",
       "      <td>0.0</td>\n",
       "    </tr>\n",
       "    <tr>\n",
       "      <th>...</th>\n",
       "      <td>...</td>\n",
       "      <td>...</td>\n",
       "      <td>...</td>\n",
       "      <td>...</td>\n",
       "      <td>...</td>\n",
       "      <td>...</td>\n",
       "      <td>...</td>\n",
       "      <td>...</td>\n",
       "      <td>...</td>\n",
       "      <td>...</td>\n",
       "    </tr>\n",
       "    <tr>\n",
       "      <th>3039</th>\n",
       "      <td>0.433544</td>\n",
       "      <td>0.505009</td>\n",
       "      <td>0.423895</td>\n",
       "      <td>0.578908</td>\n",
       "      <td>0.615572</td>\n",
       "      <td>0.409897</td>\n",
       "      <td>0.378070</td>\n",
       "      <td>0.484188</td>\n",
       "      <td>0.419685</td>\n",
       "      <td>1.0</td>\n",
       "    </tr>\n",
       "    <tr>\n",
       "      <th>3040</th>\n",
       "      <td>0.557775</td>\n",
       "      <td>0.530016</td>\n",
       "      <td>0.279263</td>\n",
       "      <td>0.603473</td>\n",
       "      <td>0.581699</td>\n",
       "      <td>0.368912</td>\n",
       "      <td>0.678284</td>\n",
       "      <td>0.532673</td>\n",
       "      <td>0.254915</td>\n",
       "      <td>1.0</td>\n",
       "    </tr>\n",
       "    <tr>\n",
       "      <th>3041</th>\n",
       "      <td>0.672822</td>\n",
       "      <td>0.465486</td>\n",
       "      <td>0.539101</td>\n",
       "      <td>0.547807</td>\n",
       "      <td>0.581699</td>\n",
       "      <td>0.438152</td>\n",
       "      <td>0.338662</td>\n",
       "      <td>0.560655</td>\n",
       "      <td>0.349570</td>\n",
       "      <td>1.0</td>\n",
       "    </tr>\n",
       "    <tr>\n",
       "      <th>3042</th>\n",
       "      <td>0.366197</td>\n",
       "      <td>0.664407</td>\n",
       "      <td>0.191490</td>\n",
       "      <td>0.465860</td>\n",
       "      <td>0.581699</td>\n",
       "      <td>0.387157</td>\n",
       "      <td>0.343638</td>\n",
       "      <td>0.622659</td>\n",
       "      <td>0.616120</td>\n",
       "      <td>1.0</td>\n",
       "    </tr>\n",
       "    <tr>\n",
       "      <th>3043</th>\n",
       "      <td>0.562477</td>\n",
       "      <td>0.535635</td>\n",
       "      <td>0.280484</td>\n",
       "      <td>0.560259</td>\n",
       "      <td>0.581699</td>\n",
       "      <td>0.255266</td>\n",
       "      <td>0.534114</td>\n",
       "      <td>0.632478</td>\n",
       "      <td>0.162441</td>\n",
       "      <td>1.0</td>\n",
       "    </tr>\n",
       "  </tbody>\n",
       "</table>\n",
       "<p>3044 rows × 10 columns</p>\n",
       "</div>"
      ],
      "text/plain": [
       "            ph  Hardness    Solids  Chloramines   Sulfate  Conductivity  \\\n",
       "0     0.505771  0.571139  0.336096     0.543891  0.680385      0.669439   \n",
       "1     0.265434  0.297400  0.300611     0.491839  0.581699      0.719411   \n",
       "2     0.578509  0.641311  0.321619     0.698543  0.581699      0.414652   \n",
       "3     0.594055  0.605536  0.356244     0.603314  0.647347      0.317880   \n",
       "4     0.649445  0.484851  0.289922     0.484900  0.514545      0.379337   \n",
       "...        ...       ...       ...          ...       ...           ...   \n",
       "3039  0.433544  0.505009  0.423895     0.578908  0.615572      0.409897   \n",
       "3040  0.557775  0.530016  0.279263     0.603473  0.581699      0.368912   \n",
       "3041  0.672822  0.465486  0.539101     0.547807  0.581699      0.438152   \n",
       "3042  0.366197  0.664407  0.191490     0.465860  0.581699      0.387157   \n",
       "3043  0.562477  0.535635  0.280484     0.560259  0.581699      0.255266   \n",
       "\n",
       "      Organic_carbon  Trihalomethanes  Turbidity  Potability  \n",
       "0           0.313402         0.699753   0.286091         0.0  \n",
       "1           0.497319         0.450999   0.576793         0.0  \n",
       "2           0.562017         0.532866   0.303637         0.0  \n",
       "3           0.622089         0.808065   0.601015         0.0  \n",
       "4           0.358555         0.253606   0.496327         0.0  \n",
       "...              ...              ...        ...         ...  \n",
       "3039        0.378070         0.484188   0.419685         1.0  \n",
       "3040        0.678284         0.532673   0.254915         1.0  \n",
       "3041        0.338662         0.560655   0.349570         1.0  \n",
       "3042        0.343638         0.622659   0.616120         1.0  \n",
       "3043        0.534114         0.632478   0.162441         1.0  \n",
       "\n",
       "[3044 rows x 10 columns]"
      ]
     },
     "execution_count": 11,
     "metadata": {},
     "output_type": "execute_result"
    }
   ],
   "source": [
    "data_set = data_set.reset_index()\n",
    "del data_set['index']\n",
    "data_set"
   ]
  },
  {
   "cell_type": "markdown",
   "id": "b4626545",
   "metadata": {
    "id": "iSbrNzYch5_o",
    "papermill": {
     "duration": 0.054052,
     "end_time": "2022-01-03T17:22:14.949664",
     "exception": false,
     "start_time": "2022-01-03T17:22:14.895612",
     "status": "completed"
    },
    "tags": []
   },
   "source": [
    "### Análisis de correlación"
   ]
  },
  {
   "cell_type": "markdown",
   "id": "8eedf1ae",
   "metadata": {
    "id": "OYrKRpAooy2Y",
    "papermill": {
     "duration": 0.057595,
     "end_time": "2022-01-03T17:22:15.061309",
     "exception": false,
     "start_time": "2022-01-03T17:22:15.003714",
     "status": "completed"
    },
    "tags": []
   },
   "source": [
    "Se calcula la correlación de las variables entre cada una de ellas y se grafican los resultados en la siguiente tabla"
   ]
  },
  {
   "cell_type": "code",
   "execution_count": 12,
   "id": "516dd9d5",
   "metadata": {
    "execution": {
     "iopub.execute_input": "2022-01-03T17:22:15.179342Z",
     "iopub.status.busy": "2022-01-03T17:22:15.178602Z",
     "iopub.status.idle": "2022-01-03T17:22:16.080708Z",
     "shell.execute_reply": "2022-01-03T17:22:16.081354Z",
     "shell.execute_reply.started": "2022-01-03T16:51:48.195556Z"
    },
    "id": "Y6XldT6DmyeL",
    "outputId": "dd252552-af4f-4bb1-aa59-0a80144a623e",
    "papermill": {
     "duration": 0.964491,
     "end_time": "2022-01-03T17:22:16.081552",
     "exception": false,
     "start_time": "2022-01-03T17:22:15.117061",
     "status": "completed"
    },
    "tags": []
   },
   "outputs": [
    {
     "data": {
      "text/plain": [
       "Text(0.5, 1.0, 'Correlación de las variables')"
      ]
     },
     "execution_count": 12,
     "metadata": {},
     "output_type": "execute_result"
    },
    {
     "data": {
      "image/png": "[encoded data removed]",
      "text/plain": [
       "<Figure size 720x432 with 2 Axes>"
      ]
     },
     "metadata": {
      "needs_background": "light"
     },
     "output_type": "display_data"
    }
   ],
   "source": [
    "corr = data_set.corr()\n",
    "fig, ax = plt.subplots(figsize=(10,6)) \n",
    "sns.heatmap(corr,\n",
    "            xticklabels = True,\n",
    "            yticklabels = True,\n",
    "            annot = True,\n",
    "            ax=ax\n",
    ")\n",
    "plt.title('Correlación de las variables')"
   ]
  },
  {
   "cell_type": "markdown",
   "id": "4abb0f42",
   "metadata": {
    "id": "06QOWdQoqlaG",
    "papermill": {
     "duration": 0.058579,
     "end_time": "2022-01-03T17:22:16.198630",
     "exception": false,
     "start_time": "2022-01-03T17:22:16.140051",
     "status": "completed"
    },
    "tags": []
   },
   "source": [
    "* Tomando en cuenta la tabla, los valores de las correlaciones estan cercanos a 0, por lo tanto todas las variables aportan información y se tomaran en cuenta para el entrenamiento de los algoritmos."
   ]
  },
  {
   "cell_type": "markdown",
   "id": "f5770172",
   "metadata": {
    "id": "K7_CLkLorKC8",
    "papermill": {
     "duration": 0.057643,
     "end_time": "2022-01-03T17:22:16.314267",
     "exception": false,
     "start_time": "2022-01-03T17:22:16.256624",
     "status": "completed"
    },
    "tags": []
   },
   "source": [
    "## Algoritmos"
   ]
  },
  {
   "cell_type": "markdown",
   "id": "4223b532",
   "metadata": {
    "id": "ho5pmyGYvqD0",
    "papermill": {
     "duration": 0.05702,
     "end_time": "2022-01-03T17:22:16.429037",
     "exception": false,
     "start_time": "2022-01-03T17:22:16.372017",
     "status": "completed"
    },
    "tags": []
   },
   "source": [
    "Se importan las librerias necesarias para:\n",
    "*   Dividir los datos en conjuntos de entrenamiento y test\n",
    "*   Entrenar y utilizar **Redes Neuronales**\n",
    "*   Entrenar y utilizar el algoritmo **Gradient Boosting**\n",
    "*   Entrenar y utilizar el algoritmo **KNN**"
   ]
  },
  {
   "cell_type": "code",
   "execution_count": 13,
   "id": "005b2475",
   "metadata": {
    "execution": {
     "iopub.execute_input": "2022-01-03T17:22:16.548448Z",
     "iopub.status.busy": "2022-01-03T17:22:16.547479Z",
     "iopub.status.idle": "2022-01-03T17:22:23.660917Z",
     "shell.execute_reply": "2022-01-03T17:22:23.660323Z",
     "shell.execute_reply.started": "2022-01-03T16:51:49.028469Z"
    },
    "id": "EqwZrFaCxW2R",
    "papermill": {
     "duration": 7.174267,
     "end_time": "2022-01-03T17:22:23.661070",
     "exception": false,
     "start_time": "2022-01-03T17:22:16.486803",
     "status": "completed"
    },
    "tags": []
   },
   "outputs": [],
   "source": [
    "from sklearn.model_selection import train_test_split\n",
    "from tensorflow.keras import datasets, layers, models, metrics, optimizers\n",
    "\n",
    "from sklearn.ensemble import GradientBoostingClassifier\n",
    "from sklearn.neighbors import KNeighborsClassifier\n",
    "from sklearn.model_selection import GridSearchCV\n",
    "from sklearn.model_selection import cross_validate"
   ]
  },
  {
   "cell_type": "markdown",
   "id": "4c7449f7",
   "metadata": {
    "id": "0K62B7WTz6fZ",
    "papermill": {
     "duration": 0.055935,
     "end_time": "2022-01-03T17:22:23.773400",
     "exception": false,
     "start_time": "2022-01-03T17:22:23.717465",
     "status": "completed"
    },
    "tags": []
   },
   "source": [
    "### División de datos"
   ]
  },
  {
   "cell_type": "markdown",
   "id": "bc168927",
   "metadata": {
    "id": "AEOfsjrPdUQX",
    "papermill": {
     "duration": 0.058637,
     "end_time": "2022-01-03T17:22:23.888139",
     "exception": false,
     "start_time": "2022-01-03T17:22:23.829502",
     "status": "completed"
    },
    "tags": []
   },
   "source": [
    "Se extraen las columnas que se usarán para predecir la potabilidad del agua"
   ]
  },
  {
   "cell_type": "code",
   "execution_count": 14,
   "id": "b96756dc",
   "metadata": {
    "execution": {
     "iopub.execute_input": "2022-01-03T17:22:24.010041Z",
     "iopub.status.busy": "2022-01-03T17:22:24.008967Z",
     "iopub.status.idle": "2022-01-03T17:22:24.014652Z",
     "shell.execute_reply": "2022-01-03T17:22:24.015248Z",
     "shell.execute_reply.started": "2022-01-03T16:51:55.387670Z"
    },
    "id": "hwEvI3DHdpgu",
    "papermill": {
     "duration": 0.067661,
     "end_time": "2022-01-03T17:22:24.015420",
     "exception": false,
     "start_time": "2022-01-03T17:22:23.947759",
     "status": "completed"
    },
    "tags": []
   },
   "outputs": [],
   "source": [
    "data_set_X = data_set.drop(['Potability'], axis = 1).values"
   ]
  },
  {
   "cell_type": "markdown",
   "id": "efba860d",
   "metadata": {
    "id": "dgZktcdSeEJ8",
    "papermill": {
     "duration": 0.057756,
     "end_time": "2022-01-03T17:22:24.130920",
     "exception": false,
     "start_time": "2022-01-03T17:22:24.073164",
     "status": "completed"
    },
    "tags": []
   },
   "source": [
    "Se extrae la columna que indica la potabilidad del agua, la cual seria la columna a predecir"
   ]
  },
  {
   "cell_type": "code",
   "execution_count": 15,
   "id": "cc695e1e",
   "metadata": {
    "execution": {
     "iopub.execute_input": "2022-01-03T17:22:24.250683Z",
     "iopub.status.busy": "2022-01-03T17:22:24.249864Z",
     "iopub.status.idle": "2022-01-03T17:22:24.254639Z",
     "shell.execute_reply": "2022-01-03T17:22:24.254028Z",
     "shell.execute_reply.started": "2022-01-03T16:51:55.398136Z"
    },
    "id": "YifUH_cReEea",
    "outputId": "5c2833ff-2fcd-4f31-97d2-b577259cf4f3",
    "papermill": {
     "duration": 0.067389,
     "end_time": "2022-01-03T17:22:24.254778",
     "exception": false,
     "start_time": "2022-01-03T17:22:24.187389",
     "status": "completed"
    },
    "tags": []
   },
   "outputs": [
    {
     "data": {
      "text/plain": [
       "array([0., 0., 0., ..., 1., 1., 1.])"
      ]
     },
     "execution_count": 15,
     "metadata": {},
     "output_type": "execute_result"
    }
   ],
   "source": [
    "data_set_Y = data_set['Potability'].values\n",
    "data_set_Y"
   ]
  },
  {
   "cell_type": "markdown",
   "id": "8afc796e",
   "metadata": {
    "id": "rOPGAnJ90845",
    "papermill": {
     "duration": 0.057916,
     "end_time": "2022-01-03T17:22:24.371189",
     "exception": false,
     "start_time": "2022-01-03T17:22:24.313273",
     "status": "completed"
    },
    "tags": []
   },
   "source": [
    "Se realiza la division entre datos de entrenamiento y de test, asignando el 80% de datos para entrenamiento y el 20% para testear los modelos"
   ]
  },
  {
   "cell_type": "code",
   "execution_count": 16,
   "id": "3832f627",
   "metadata": {
    "execution": {
     "iopub.execute_input": "2022-01-03T17:22:24.493546Z",
     "iopub.status.busy": "2022-01-03T17:22:24.492633Z",
     "iopub.status.idle": "2022-01-03T17:22:24.496240Z",
     "shell.execute_reply": "2022-01-03T17:22:24.495475Z",
     "shell.execute_reply.started": "2022-01-03T16:51:55.419048Z"
    },
    "id": "cpKkiZ9K08T7",
    "papermill": {
     "duration": 0.067026,
     "end_time": "2022-01-03T17:22:24.496388",
     "exception": false,
     "start_time": "2022-01-03T17:22:24.429362",
     "status": "completed"
    },
    "tags": []
   },
   "outputs": [],
   "source": [
    "X_train, X_test, y_train, y_test = train_test_split(data_set_X, data_set_Y, test_size = 0.2, random_state = 0)"
   ]
  },
  {
   "cell_type": "markdown",
   "id": "bb4fcfef",
   "metadata": {
    "id": "zZS0xeno6I9T",
    "papermill": {
     "duration": 0.05661,
     "end_time": "2022-01-03T17:22:24.610174",
     "exception": false,
     "start_time": "2022-01-03T17:22:24.553564",
     "status": "completed"
    },
    "tags": []
   },
   "source": [
    "### Algoritmo visto en clases (Gradient Boosting)"
   ]
  },
  {
   "cell_type": "markdown",
   "id": "80233ff5",
   "metadata": {
    "id": "dCCwgvhhkoVQ",
    "papermill": {
     "duration": 0.057263,
     "end_time": "2022-01-03T17:22:24.724360",
     "exception": false,
     "start_time": "2022-01-03T17:22:24.667097",
     "status": "completed"
    },
    "tags": []
   },
   "source": [
    "Gradient Boosting consiste en algoritmos débiles (arboles de decisión), que por si solos no entregan buenos resultados, pero que en forma conjunta constituyen un algoritmo fuerte y robusto capaz de resolver problemas de regresión y clasificación."
   ]
  },
  {
   "cell_type": "markdown",
   "id": "f75c6820",
   "metadata": {
    "id": "0prJZuhkR9iv",
    "papermill": {
     "duration": 0.057352,
     "end_time": "2022-01-03T17:22:24.838526",
     "exception": false,
     "start_time": "2022-01-03T17:22:24.781174",
     "status": "completed"
    },
    "tags": []
   },
   "source": [
    "Se genera el rango de variación de los parametros para Gradient Boosting"
   ]
  },
  {
   "cell_type": "code",
   "execution_count": 17,
   "id": "10dc1211",
   "metadata": {
    "execution": {
     "iopub.execute_input": "2022-01-03T17:22:24.963687Z",
     "iopub.status.busy": "2022-01-03T17:22:24.962597Z",
     "iopub.status.idle": "2022-01-03T17:22:24.968008Z",
     "shell.execute_reply": "2022-01-03T17:22:24.968614Z",
     "shell.execute_reply.started": "2022-01-03T16:51:55.430045Z"
    },
    "id": "o1VqtZ6n2-G9",
    "papermill": {
     "duration": 0.073354,
     "end_time": "2022-01-03T17:22:24.968779",
     "exception": false,
     "start_time": "2022-01-03T17:22:24.895425",
     "status": "completed"
    },
    "tags": []
   },
   "outputs": [],
   "source": [
    "param_GB = {'n_estimators': range(100, 1000, 100),\n",
    "            'max_depth': range(2, 6),\n",
    "            'loss': ['deviance', 'exponential']}"
   ]
  },
  {
   "cell_type": "markdown",
   "id": "9bb736d4",
   "metadata": {
    "id": "3NVH-GbHoOku",
    "papermill": {
     "duration": 0.057028,
     "end_time": "2022-01-03T17:22:25.082324",
     "exception": false,
     "start_time": "2022-01-03T17:22:25.025296",
     "status": "completed"
    },
    "tags": []
   },
   "source": [
    "Se crea el clasificador y se configura la busqueda de los hiperparametros\n"
   ]
  },
  {
   "cell_type": "code",
   "execution_count": 18,
   "id": "71908976",
   "metadata": {
    "execution": {
     "iopub.execute_input": "2022-01-03T17:22:25.201253Z",
     "iopub.status.busy": "2022-01-03T17:22:25.200530Z",
     "iopub.status.idle": "2022-01-03T17:22:25.204574Z",
     "shell.execute_reply": "2022-01-03T17:22:25.205313Z",
     "shell.execute_reply.started": "2022-01-03T16:51:55.441940Z"
    },
    "id": "LXW01-JG3jAr",
    "papermill": {
     "duration": 0.066441,
     "end_time": "2022-01-03T17:22:25.205502",
     "exception": false,
     "start_time": "2022-01-03T17:22:25.139061",
     "status": "completed"
    },
    "tags": []
   },
   "outputs": [],
   "source": [
    "GradBoost = GradientBoostingClassifier()"
   ]
  },
  {
   "cell_type": "code",
   "execution_count": 19,
   "id": "17d5ede3",
   "metadata": {
    "execution": {
     "iopub.execute_input": "2022-01-03T17:22:25.323743Z",
     "iopub.status.busy": "2022-01-03T17:22:25.322682Z",
     "iopub.status.idle": "2022-01-03T17:22:25.327138Z",
     "shell.execute_reply": "2022-01-03T17:22:25.327616Z",
     "shell.execute_reply.started": "2022-01-03T16:51:55.452930Z"
    },
    "id": "sbwCMs-w3n3K",
    "papermill": {
     "duration": 0.065177,
     "end_time": "2022-01-03T17:22:25.327796",
     "exception": false,
     "start_time": "2022-01-03T17:22:25.262619",
     "status": "completed"
    },
    "tags": []
   },
   "outputs": [],
   "source": [
    "gsearch_GB = GridSearchCV(GradBoost, param_grid=param_GB, scoring='r2', cv=5, return_train_score=True)"
   ]
  },
  {
   "cell_type": "markdown",
   "id": "0ae1eb21",
   "metadata": {
    "id": "Mw6MzoPeTDCH",
    "papermill": {
     "duration": 0.057103,
     "end_time": "2022-01-03T17:22:25.443048",
     "exception": false,
     "start_time": "2022-01-03T17:22:25.385945",
     "status": "completed"
    },
    "tags": []
   },
   "source": [
    "Se entrena el modelo con los datos de entrenamiento"
   ]
  },
  {
   "cell_type": "code",
   "execution_count": 20,
   "id": "b0d663b7",
   "metadata": {
    "execution": {
     "iopub.execute_input": "2022-01-03T17:22:25.563163Z",
     "iopub.status.busy": "2022-01-03T17:22:25.561439Z",
     "iopub.status.idle": "2022-01-03T17:45:10.181163Z",
     "shell.execute_reply": "2022-01-03T17:45:10.181692Z",
     "shell.execute_reply.started": "2022-01-03T16:51:55.466897Z"
    },
    "id": "el3EAoHC4FPL",
    "outputId": "273d32ac-9e04-40e8-9e2b-07651ba46b1a",
    "papermill": {
     "duration": 1364.682216,
     "end_time": "2022-01-03T17:45:10.181901",
     "exception": false,
     "start_time": "2022-01-03T17:22:25.499685",
     "status": "completed"
    },
    "tags": []
   },
   "outputs": [
    {
     "data": {
      "text/plain": [
       "GridSearchCV(cv=5, estimator=GradientBoostingClassifier(),\n",
       "             param_grid={'loss': ['deviance', 'exponential'],\n",
       "                         'max_depth': range(2, 6),\n",
       "                         'n_estimators': range(100, 1000, 100)},\n",
       "             return_train_score=True, scoring='r2')"
      ]
     },
     "execution_count": 20,
     "metadata": {},
     "output_type": "execute_result"
    }
   ],
   "source": [
    "gsearch_GB.fit(X_train, y_train)"
   ]
  },
  {
   "cell_type": "markdown",
   "id": "f6d5d175",
   "metadata": {
    "id": "B9wC9uJYUHQn",
    "papermill": {
     "duration": 0.056793,
     "end_time": "2022-01-03T17:45:10.298285",
     "exception": false,
     "start_time": "2022-01-03T17:45:10.241492",
     "status": "completed"
    },
    "tags": []
   },
   "source": [
    "Se imprimen los mejores parametros encontrados junto con el promedio de scores de las 5 validaciones cruzadas hechas"
   ]
  },
  {
   "cell_type": "code",
   "execution_count": 21,
   "id": "d7e42d63",
   "metadata": {
    "execution": {
     "iopub.execute_input": "2022-01-03T17:45:10.420185Z",
     "iopub.status.busy": "2022-01-03T17:45:10.419361Z",
     "iopub.status.idle": "2022-01-03T17:45:10.422118Z",
     "shell.execute_reply": "2022-01-03T17:45:10.422621Z",
     "shell.execute_reply.started": "2022-01-03T17:13:54.457859Z"
    },
    "id": "n113GTS-OjmH",
    "outputId": "d9760d44-269c-40f8-c0c8-1b457b003cc6",
    "papermill": {
     "duration": 0.066608,
     "end_time": "2022-01-03T17:45:10.422796",
     "exception": false,
     "start_time": "2022-01-03T17:45:10.356188",
     "status": "completed"
    },
    "tags": []
   },
   "outputs": [
    {
     "data": {
      "text/plain": [
       "({'loss': 'exponential', 'max_depth': 4, 'n_estimators': 100},\n",
       " -0.5256025729069979)"
      ]
     },
     "execution_count": 21,
     "metadata": {},
     "output_type": "execute_result"
    }
   ],
   "source": [
    "gsearch_GB.best_params_, gsearch_GB.best_score_"
   ]
  },
  {
   "cell_type": "markdown",
   "id": "d980fb03",
   "metadata": {
    "id": "aH-O91VvoeoV",
    "papermill": {
     "duration": 0.058101,
     "end_time": "2022-01-03T17:45:10.538908",
     "exception": false,
     "start_time": "2022-01-03T17:45:10.480807",
     "status": "completed"
    },
    "tags": []
   },
   "source": [
    "Se prueba el clasificador que tiene los mejores parametros con los datos de test"
   ]
  },
  {
   "cell_type": "code",
   "execution_count": 22,
   "id": "7c2f7c12",
   "metadata": {
    "execution": {
     "iopub.execute_input": "2022-01-03T17:45:10.659208Z",
     "iopub.status.busy": "2022-01-03T17:45:10.658213Z",
     "iopub.status.idle": "2022-01-03T17:45:10.666097Z",
     "shell.execute_reply": "2022-01-03T17:45:10.666640Z",
     "shell.execute_reply.started": "2022-01-03T17:13:54.468559Z"
    },
    "id": "Oczt_igmenQD",
    "outputId": "26b2ca8a-d1ec-4d41-dd9c-3140e242151d",
    "papermill": {
     "duration": 0.070145,
     "end_time": "2022-01-03T17:45:10.666833",
     "exception": false,
     "start_time": "2022-01-03T17:45:10.596688",
     "status": "completed"
    },
    "tags": []
   },
   "outputs": [
    {
     "data": {
      "text/plain": [
       "0.6518883415435139"
      ]
     },
     "execution_count": 22,
     "metadata": {},
     "output_type": "execute_result"
    }
   ],
   "source": [
    "gsearch_GB.best_estimator_.score(X_test, y_test)"
   ]
  },
  {
   "cell_type": "markdown",
   "id": "6663c8eb",
   "metadata": {
    "id": "ENkbmLTV6Nsn",
    "papermill": {
     "duration": 0.058482,
     "end_time": "2022-01-03T17:45:10.784149",
     "exception": false,
     "start_time": "2022-01-03T17:45:10.725667",
     "status": "completed"
    },
    "tags": []
   },
   "source": [
    "### Algoritmo no visto en clases (KNN)"
   ]
  },
  {
   "cell_type": "markdown",
   "id": "06155b15",
   "metadata": {
    "id": "DmJHRBw9n_iU",
    "papermill": {
     "duration": 0.0575,
     "end_time": "2022-01-03T17:45:10.899470",
     "exception": false,
     "start_time": "2022-01-03T17:45:10.841970",
     "status": "completed"
    },
    "tags": []
   },
   "source": [
    "K-Nearest Neighbor (KNN) consiste en realizar una predicción de acuerdo a los “k” datos más cercanos y clasificar el punto de interés según la mayor cantidad de datos que le rodean."
   ]
  },
  {
   "cell_type": "code",
   "execution_count": 23,
   "id": "cf222a3b",
   "metadata": {
    "execution": {
     "iopub.execute_input": "2022-01-03T17:45:11.021032Z",
     "iopub.status.busy": "2022-01-03T17:45:11.020261Z",
     "iopub.status.idle": "2022-01-03T17:45:11.021863Z",
     "shell.execute_reply": "2022-01-03T17:45:11.022295Z",
     "shell.execute_reply.started": "2022-01-03T17:13:54.483041Z"
    },
    "id": "TRJJiN2E6TPc",
    "papermill": {
     "duration": 0.065334,
     "end_time": "2022-01-03T17:45:11.022463",
     "exception": false,
     "start_time": "2022-01-03T17:45:10.957129",
     "status": "completed"
    },
    "tags": []
   },
   "outputs": [],
   "source": [
    "param_KNN = {'n_neighbors': range(1, 100),\n",
    "            'weights': ['uniform','distance']}"
   ]
  },
  {
   "cell_type": "markdown",
   "id": "c75768a9",
   "metadata": {
    "id": "6XiEpkXbpAb0",
    "papermill": {
     "duration": 0.057848,
     "end_time": "2022-01-03T17:45:11.141269",
     "exception": false,
     "start_time": "2022-01-03T17:45:11.083421",
     "status": "completed"
    },
    "tags": []
   },
   "source": [
    "Se crea el clasificador y se configura la busqueda de los hiperparametros"
   ]
  },
  {
   "cell_type": "code",
   "execution_count": 24,
   "id": "7a8d2b8b",
   "metadata": {
    "execution": {
     "iopub.execute_input": "2022-01-03T17:45:11.264032Z",
     "iopub.status.busy": "2022-01-03T17:45:11.263271Z",
     "iopub.status.idle": "2022-01-03T17:45:11.266637Z",
     "shell.execute_reply": "2022-01-03T17:45:11.267134Z",
     "shell.execute_reply.started": "2022-01-03T17:13:54.494971Z"
    },
    "id": "x_IeLrIQj7gl",
    "papermill": {
     "duration": 0.067276,
     "end_time": "2022-01-03T17:45:11.267313",
     "exception": false,
     "start_time": "2022-01-03T17:45:11.200037",
     "status": "completed"
    },
    "tags": []
   },
   "outputs": [],
   "source": [
    "KNN = KNeighborsClassifier()"
   ]
  },
  {
   "cell_type": "code",
   "execution_count": 25,
   "id": "71ef9661",
   "metadata": {
    "execution": {
     "iopub.execute_input": "2022-01-03T17:45:11.393184Z",
     "iopub.status.busy": "2022-01-03T17:45:11.392438Z",
     "iopub.status.idle": "2022-01-03T17:45:11.394397Z",
     "shell.execute_reply": "2022-01-03T17:45:11.394856Z",
     "shell.execute_reply.started": "2022-01-03T17:13:54.504651Z"
    },
    "id": "SGy7N5NokDEa",
    "papermill": {
     "duration": 0.06793,
     "end_time": "2022-01-03T17:45:11.395030",
     "exception": false,
     "start_time": "2022-01-03T17:45:11.327100",
     "status": "completed"
    },
    "tags": []
   },
   "outputs": [],
   "source": [
    "gsearch_KNN = GridSearchCV(KNN, param_grid=param_KNN, scoring='r2', cv=5, return_train_score=True)"
   ]
  },
  {
   "cell_type": "markdown",
   "id": "ba9fad2c",
   "metadata": {
    "id": "20C4BKSgpGX5",
    "papermill": {
     "duration": 0.058934,
     "end_time": "2022-01-03T17:45:11.514232",
     "exception": false,
     "start_time": "2022-01-03T17:45:11.455298",
     "status": "completed"
    },
    "tags": []
   },
   "source": [
    "Se entrena el modelo con los datos de entrenamiento"
   ]
  },
  {
   "cell_type": "code",
   "execution_count": 26,
   "id": "fb065e2c",
   "metadata": {
    "execution": {
     "iopub.execute_input": "2022-01-03T17:45:11.639336Z",
     "iopub.status.busy": "2022-01-03T17:45:11.638572Z",
     "iopub.status.idle": "2022-01-03T17:48:26.345260Z",
     "shell.execute_reply": "2022-01-03T17:48:26.345804Z",
     "shell.execute_reply.started": "2022-01-03T17:13:54.517620Z"
    },
    "id": "1ifAohsEkQgq",
    "outputId": "5d522a71-c1cc-4ac4-dff8-f4c691863ee4",
    "papermill": {
     "duration": 194.771703,
     "end_time": "2022-01-03T17:48:26.346030",
     "exception": false,
     "start_time": "2022-01-03T17:45:11.574327",
     "status": "completed"
    },
    "tags": []
   },
   "outputs": [
    {
     "data": {
      "text/plain": [
       "GridSearchCV(cv=5, estimator=KNeighborsClassifier(),\n",
       "             param_grid={'n_neighbors': range(1, 100),\n",
       "                         'weights': ['uniform', 'distance']},\n",
       "             return_train_score=True, scoring='r2')"
      ]
     },
     "execution_count": 26,
     "metadata": {},
     "output_type": "execute_result"
    }
   ],
   "source": [
    "gsearch_KNN.fit(X_train, y_train)"
   ]
  },
  {
   "cell_type": "markdown",
   "id": "9aec22db",
   "metadata": {
    "id": "xjQ7yFZapJUb",
    "papermill": {
     "duration": 0.058246,
     "end_time": "2022-01-03T17:48:26.463945",
     "exception": false,
     "start_time": "2022-01-03T17:48:26.405699",
     "status": "completed"
    },
    "tags": []
   },
   "source": [
    "Se imprimen los mejores parametros encontrados junto con el promedio de scores de las 5 validaciones cruzadas hechas"
   ]
  },
  {
   "cell_type": "code",
   "execution_count": 27,
   "id": "3f4ee6d2",
   "metadata": {
    "execution": {
     "iopub.execute_input": "2022-01-03T17:48:26.586729Z",
     "iopub.status.busy": "2022-01-03T17:48:26.584143Z",
     "iopub.status.idle": "2022-01-03T17:48:26.590922Z",
     "shell.execute_reply": "2022-01-03T17:48:26.590390Z",
     "shell.execute_reply.started": "2022-01-03T17:16:57.110815Z"
    },
    "id": "msNaBTD0kWr5",
    "outputId": "85321108-01ea-46c5-86ed-88ee2cb4f159",
    "papermill": {
     "duration": 0.06836,
     "end_time": "2022-01-03T17:48:26.591068",
     "exception": false,
     "start_time": "2022-01-03T17:48:26.522708",
     "status": "completed"
    },
    "tags": []
   },
   "outputs": [
    {
     "data": {
      "text/plain": [
       "({'n_neighbors': 40, 'weights': 'distance'}, -0.5064406719697037)"
      ]
     },
     "execution_count": 27,
     "metadata": {},
     "output_type": "execute_result"
    }
   ],
   "source": [
    "gsearch_KNN.best_params_, gsearch_KNN.best_score_"
   ]
  },
  {
   "cell_type": "markdown",
   "id": "353f82f1",
   "metadata": {
    "id": "qHzvzs5mpXAs",
    "papermill": {
     "duration": 0.059689,
     "end_time": "2022-01-03T17:48:26.711391",
     "exception": false,
     "start_time": "2022-01-03T17:48:26.651702",
     "status": "completed"
    },
    "tags": []
   },
   "source": [
    "Se prueba el clasificador que tiene los mejores parametros con los datos de test"
   ]
  },
  {
   "cell_type": "code",
   "execution_count": 28,
   "id": "eadf0e3a",
   "metadata": {
    "execution": {
     "iopub.execute_input": "2022-01-03T17:48:26.842315Z",
     "iopub.status.busy": "2022-01-03T17:48:26.840963Z",
     "iopub.status.idle": "2022-01-03T17:48:26.886078Z",
     "shell.execute_reply": "2022-01-03T17:48:26.886632Z",
     "shell.execute_reply.started": "2022-01-03T17:16:57.118910Z"
    },
    "id": "-2kwX1sYkczj",
    "outputId": "2f6f1004-d2f4-4d3c-97aa-194a9edb076f",
    "papermill": {
     "duration": 0.114823,
     "end_time": "2022-01-03T17:48:26.886796",
     "exception": false,
     "start_time": "2022-01-03T17:48:26.771973",
     "status": "completed"
    },
    "tags": []
   },
   "outputs": [
    {
     "data": {
      "text/plain": [
       "0.6469622331691297"
      ]
     },
     "execution_count": 28,
     "metadata": {},
     "output_type": "execute_result"
    }
   ],
   "source": [
    "gsearch_KNN.best_estimator_.score(X_test, y_test)"
   ]
  },
  {
   "cell_type": "markdown",
   "id": "861e5efc",
   "metadata": {
    "id": "TXy1GRJI56Q0",
    "papermill": {
     "duration": 0.061442,
     "end_time": "2022-01-03T17:48:27.009642",
     "exception": false,
     "start_time": "2022-01-03T17:48:26.948200",
     "status": "completed"
    },
    "tags": []
   },
   "source": [
    "### Red Neuronal"
   ]
  },
  {
   "cell_type": "markdown",
   "id": "0c39c69d",
   "metadata": {
    "id": "fLtglO34OAc5",
    "papermill": {
     "duration": 0.058403,
     "end_time": "2022-01-03T17:48:27.126759",
     "exception": false,
     "start_time": "2022-01-03T17:48:27.068356",
     "status": "completed"
    },
    "tags": []
   },
   "source": [
    "\n",
    "\n",
    "<p align=justify>Una red neuronal es un modelo simplificado que intenta emular el funcionamiento de un cerebro humano. Generalmente son organizadas en capas, teniendo la capa de entrada, las capas ocultas y la capa de salida. Estas capas estan conectadas entre si y sus conexiones tienen pesos asociados, los cuales se autoajustan cuando la red realiza predicciones incorrectas para un registro al momento en que esta es entrenada.</p>"
   ]
  },
  {
   "cell_type": "markdown",
   "id": "7b9d7203",
   "metadata": {
    "id": "GZdNwwbRAcbF",
    "papermill": {
     "duration": 0.058705,
     "end_time": "2022-01-03T17:48:27.246288",
     "exception": false,
     "start_time": "2022-01-03T17:48:27.187583",
     "status": "completed"
    },
    "tags": []
   },
   "source": [
    "Se realizan las particiones de datos en 70% para entrenamiento, 20% para test y 10% para validación."
   ]
  },
  {
   "cell_type": "code",
   "execution_count": 29,
   "id": "5845fff2",
   "metadata": {
    "execution": {
     "iopub.execute_input": "2022-01-03T17:48:27.371539Z",
     "iopub.status.busy": "2022-01-03T17:48:27.370836Z",
     "iopub.status.idle": "2022-01-03T17:48:27.377060Z",
     "shell.execute_reply": "2022-01-03T17:48:27.376462Z",
     "shell.execute_reply.started": "2022-01-03T17:16:57.172877Z"
    },
    "id": "agzq3WdqAlBR",
    "papermill": {
     "duration": 0.071956,
     "end_time": "2022-01-03T17:48:27.377234",
     "exception": false,
     "start_time": "2022-01-03T17:48:27.305278",
     "status": "completed"
    },
    "tags": []
   },
   "outputs": [],
   "source": [
    "X_train, X_test, y_train, y_test = train_test_split(data_set_X, data_set_Y, test_size = 0.2, random_state = 0)\n",
    "X_train, X_val, y_train, y_val = train_test_split(X_train, y_train, test_size = 0.125, random_state = 0)"
   ]
  },
  {
   "cell_type": "code",
   "execution_count": 30,
   "id": "ecf4dac7",
   "metadata": {
    "execution": {
     "iopub.execute_input": "2022-01-03T17:48:27.498515Z",
     "iopub.status.busy": "2022-01-03T17:48:27.497863Z",
     "iopub.status.idle": "2022-01-03T17:48:27.501634Z",
     "shell.execute_reply": "2022-01-03T17:48:27.502114Z",
     "shell.execute_reply.started": "2022-01-03T17:19:54.288982Z"
    },
    "papermill": {
     "duration": 0.065919,
     "end_time": "2022-01-03T17:48:27.502302",
     "exception": false,
     "start_time": "2022-01-03T17:48:27.436383",
     "status": "completed"
    },
    "tags": []
   },
   "outputs": [],
   "source": [
    "import os\n",
    "os.environ[\"KMP_SETTINGS\"] = \"false\""
   ]
  },
  {
   "cell_type": "markdown",
   "id": "74a4e84b",
   "metadata": {
    "id": "cM8hU0LZy3TN",
    "papermill": {
     "duration": 0.060026,
     "end_time": "2022-01-03T17:48:27.621221",
     "exception": false,
     "start_time": "2022-01-03T17:48:27.561195",
     "status": "completed"
    },
    "tags": []
   },
   "source": [
    "Se crea el modelo de la red neuronal"
   ]
  },
  {
   "cell_type": "code",
   "execution_count": 31,
   "id": "fdec1aa6",
   "metadata": {
    "execution": {
     "iopub.execute_input": "2022-01-03T17:48:27.741965Z",
     "iopub.status.busy": "2022-01-03T17:48:27.741314Z",
     "iopub.status.idle": "2022-01-03T17:48:27.895029Z",
     "shell.execute_reply": "2022-01-03T17:48:27.895547Z",
     "shell.execute_reply.started": "2022-01-03T17:20:00.852324Z"
    },
    "id": "K51SuJSJ6SiK",
    "outputId": "fdd5d2f1-e078-4419-b932-115b1ebd8925",
    "papermill": {
     "duration": 0.215729,
     "end_time": "2022-01-03T17:48:27.895714",
     "exception": false,
     "start_time": "2022-01-03T17:48:27.679985",
     "status": "completed"
    },
    "tags": []
   },
   "outputs": [
    {
     "name": "stdout",
     "output_type": "stream",
     "text": [
      "Model: \"sequential\"\n",
      "_________________________________________________________________\n",
      "Layer (type)                 Output Shape              Param #   \n",
      "=================================================================\n",
      "dense (Dense)                (None, 16)                160       \n",
      "_________________________________________________________________\n",
      "dense_1 (Dense)              (None, 12)                204       \n",
      "_________________________________________________________________\n",
      "dropout (Dropout)            (None, 12)                0         \n",
      "_________________________________________________________________\n",
      "dense_2 (Dense)              (None, 1)                 13        \n",
      "=================================================================\n",
      "Total params: 377\n",
      "Trainable params: 377\n",
      "Non-trainable params: 0\n",
      "_________________________________________________________________\n"
     ]
    },
    {
     "name": "stderr",
     "output_type": "stream",
     "text": [
      "2022-01-03 17:48:27.790401: I tensorflow/core/common_runtime/process_util.cc:146] Creating new thread pool with default inter op setting: 2. Tune using inter_op_parallelism_threads for best performance.\n"
     ]
    }
   ],
   "source": [
    "model = models.Sequential()\n",
    "\n",
    "model.add(layers.Dense(16, activation = 'relu', input_dim = 9))\n",
    "model.add(layers.Dense(12, activation = 'relu'))\n",
    "model.add(layers.Dropout(0.5))\n",
    "model.add(layers.Dense(1, activation = 'sigmoid'))\n",
    "\n",
    "model.summary()"
   ]
  },
  {
   "cell_type": "markdown",
   "id": "042441fe",
   "metadata": {
    "id": "gwZ8UsZz_bKA",
    "papermill": {
     "duration": 0.059498,
     "end_time": "2022-01-03T17:48:28.014574",
     "exception": false,
     "start_time": "2022-01-03T17:48:27.955076",
     "status": "completed"
    },
    "tags": []
   },
   "source": [
    "Se definen los parametros de compilado y se entrena el modelo"
   ]
  },
  {
   "cell_type": "code",
   "execution_count": 32,
   "id": "f6ce74bb",
   "metadata": {
    "execution": {
     "iopub.execute_input": "2022-01-03T17:48:28.137537Z",
     "iopub.status.busy": "2022-01-03T17:48:28.136790Z",
     "iopub.status.idle": "2022-01-03T17:48:46.897452Z",
     "shell.execute_reply": "2022-01-03T17:48:46.896857Z",
     "shell.execute_reply.started": "2022-01-03T17:20:06.902853Z"
    },
    "id": "G-8WjDkvy1Z2",
    "outputId": "2ad0da50-3104-4754-e2bd-a0eb5cefcbe2",
    "papermill": {
     "duration": 18.823365,
     "end_time": "2022-01-03T17:48:46.897595",
     "exception": false,
     "start_time": "2022-01-03T17:48:28.074230",
     "status": "completed"
    },
    "tags": []
   },
   "outputs": [
    {
     "name": "stderr",
     "output_type": "stream",
     "text": [
      "2022-01-03 17:48:28.246315: I tensorflow/compiler/mlir/mlir_graph_optimization_pass.cc:185] None of the MLIR Optimization Passes are enabled (registered 2)\n"
     ]
    },
    {
     "name": "stdout",
     "output_type": "stream",
     "text": [
      "Epoch 1/100\n",
      "67/67 [==============================] - 1s 6ms/step - loss: 0.6715 - accuracy: 0.6192 - val_loss: 0.6745 - val_accuracy: 0.5934\n",
      "Epoch 2/100\n",
      "67/67 [==============================] - 0s 2ms/step - loss: 0.6696 - accuracy: 0.6225 - val_loss: 0.6744 - val_accuracy: 0.5934\n",
      "Epoch 3/100\n",
      "67/67 [==============================] - 0s 2ms/step - loss: 0.6668 - accuracy: 0.6244 - val_loss: 0.6749 - val_accuracy: 0.5934\n",
      "Epoch 4/100\n",
      "67/67 [==============================] - 0s 3ms/step - loss: 0.6672 - accuracy: 0.6254 - val_loss: 0.6742 - val_accuracy: 0.5934\n",
      "Epoch 5/100\n",
      "67/67 [==============================] - 0s 3ms/step - loss: 0.6606 - accuracy: 0.6249 - val_loss: 0.6755 - val_accuracy: 0.5934\n",
      "Epoch 6/100\n",
      "67/67 [==============================] - 0s 2ms/step - loss: 0.6693 - accuracy: 0.6254 - val_loss: 0.6740 - val_accuracy: 0.5934\n",
      "Epoch 7/100\n",
      "67/67 [==============================] - 0s 2ms/step - loss: 0.6678 - accuracy: 0.6254 - val_loss: 0.6737 - val_accuracy: 0.5934\n",
      "Epoch 8/100\n",
      "67/67 [==============================] - 0s 2ms/step - loss: 0.6654 - accuracy: 0.6254 - val_loss: 0.6732 - val_accuracy: 0.5934\n",
      "Epoch 9/100\n",
      "67/67 [==============================] - 0s 2ms/step - loss: 0.6628 - accuracy: 0.6254 - val_loss: 0.6747 - val_accuracy: 0.5934\n",
      "Epoch 10/100\n",
      "67/67 [==============================] - 0s 3ms/step - loss: 0.6623 - accuracy: 0.6254 - val_loss: 0.6738 - val_accuracy: 0.5934\n",
      "Epoch 11/100\n",
      "67/67 [==============================] - 0s 3ms/step - loss: 0.6625 - accuracy: 0.6254 - val_loss: 0.6735 - val_accuracy: 0.5934\n",
      "Epoch 12/100\n",
      "67/67 [==============================] - 0s 3ms/step - loss: 0.6651 - accuracy: 0.6254 - val_loss: 0.6737 - val_accuracy: 0.5934\n",
      "Epoch 13/100\n",
      "67/67 [==============================] - 0s 3ms/step - loss: 0.6611 - accuracy: 0.6254 - val_loss: 0.6740 - val_accuracy: 0.5934\n",
      "Epoch 14/100\n",
      "67/67 [==============================] - 0s 3ms/step - loss: 0.6601 - accuracy: 0.6254 - val_loss: 0.6725 - val_accuracy: 0.5934\n",
      "Epoch 15/100\n",
      "67/67 [==============================] - 0s 3ms/step - loss: 0.6650 - accuracy: 0.6254 - val_loss: 0.6741 - val_accuracy: 0.5934\n",
      "Epoch 16/100\n",
      "67/67 [==============================] - 0s 2ms/step - loss: 0.6618 - accuracy: 0.6254 - val_loss: 0.6739 - val_accuracy: 0.5934\n",
      "Epoch 17/100\n",
      "67/67 [==============================] - 0s 3ms/step - loss: 0.6603 - accuracy: 0.6254 - val_loss: 0.6729 - val_accuracy: 0.5934\n",
      "Epoch 18/100\n",
      "67/67 [==============================] - 0s 3ms/step - loss: 0.6623 - accuracy: 0.6254 - val_loss: 0.6719 - val_accuracy: 0.5934\n",
      "Epoch 19/100\n",
      "67/67 [==============================] - 0s 3ms/step - loss: 0.6632 - accuracy: 0.6254 - val_loss: 0.6722 - val_accuracy: 0.5934\n",
      "Epoch 20/100\n",
      "67/67 [==============================] - 0s 3ms/step - loss: 0.6598 - accuracy: 0.6254 - val_loss: 0.6725 - val_accuracy: 0.5934\n",
      "Epoch 21/100\n",
      "67/67 [==============================] - 0s 3ms/step - loss: 0.6616 - accuracy: 0.6254 - val_loss: 0.6728 - val_accuracy: 0.5934\n",
      "Epoch 22/100\n",
      "67/67 [==============================] - 0s 3ms/step - loss: 0.6614 - accuracy: 0.6254 - val_loss: 0.6728 - val_accuracy: 0.5934\n",
      "Epoch 23/100\n",
      "67/67 [==============================] - 0s 3ms/step - loss: 0.6618 - accuracy: 0.6254 - val_loss: 0.6720 - val_accuracy: 0.5934\n",
      "Epoch 24/100\n",
      "67/67 [==============================] - 0s 3ms/step - loss: 0.6606 - accuracy: 0.6254 - val_loss: 0.6722 - val_accuracy: 0.5934\n",
      "Epoch 25/100\n",
      "67/67 [==============================] - 0s 3ms/step - loss: 0.6611 - accuracy: 0.6254 - val_loss: 0.6717 - val_accuracy: 0.5934\n",
      "Epoch 26/100\n",
      "67/67 [==============================] - 0s 2ms/step - loss: 0.6601 - accuracy: 0.6254 - val_loss: 0.6706 - val_accuracy: 0.5934\n",
      "Epoch 27/100\n",
      "67/67 [==============================] - 0s 2ms/step - loss: 0.6620 - accuracy: 0.6254 - val_loss: 0.6721 - val_accuracy: 0.5934\n",
      "Epoch 28/100\n",
      "67/67 [==============================] - 0s 3ms/step - loss: 0.6605 - accuracy: 0.6254 - val_loss: 0.6712 - val_accuracy: 0.5934\n",
      "Epoch 29/100\n",
      "67/67 [==============================] - 0s 3ms/step - loss: 0.6581 - accuracy: 0.6254 - val_loss: 0.6695 - val_accuracy: 0.5934\n",
      "Epoch 30/100\n",
      "67/67 [==============================] - 0s 3ms/step - loss: 0.6607 - accuracy: 0.6254 - val_loss: 0.6700 - val_accuracy: 0.5934\n",
      "Epoch 31/100\n",
      "67/67 [==============================] - 0s 3ms/step - loss: 0.6596 - accuracy: 0.6254 - val_loss: 0.6706 - val_accuracy: 0.5934\n",
      "Epoch 32/100\n",
      "67/67 [==============================] - 0s 3ms/step - loss: 0.6597 - accuracy: 0.6254 - val_loss: 0.6701 - val_accuracy: 0.5934\n",
      "Epoch 33/100\n",
      "67/67 [==============================] - 0s 3ms/step - loss: 0.6589 - accuracy: 0.6254 - val_loss: 0.6698 - val_accuracy: 0.5934\n",
      "Epoch 34/100\n",
      "67/67 [==============================] - 0s 3ms/step - loss: 0.6596 - accuracy: 0.6254 - val_loss: 0.6721 - val_accuracy: 0.5934\n",
      "Epoch 35/100\n",
      "67/67 [==============================] - 0s 3ms/step - loss: 0.6602 - accuracy: 0.6254 - val_loss: 0.6708 - val_accuracy: 0.5934\n",
      "Epoch 36/100\n",
      "67/67 [==============================] - 0s 3ms/step - loss: 0.6595 - accuracy: 0.6254 - val_loss: 0.6690 - val_accuracy: 0.5934\n",
      "Epoch 37/100\n",
      "67/67 [==============================] - 0s 3ms/step - loss: 0.6617 - accuracy: 0.6254 - val_loss: 0.6699 - val_accuracy: 0.5934\n",
      "Epoch 38/100\n",
      "67/67 [==============================] - 0s 3ms/step - loss: 0.6589 - accuracy: 0.6258 - val_loss: 0.6687 - val_accuracy: 0.5934\n",
      "Epoch 39/100\n",
      "67/67 [==============================] - 0s 2ms/step - loss: 0.6593 - accuracy: 0.6254 - val_loss: 0.6701 - val_accuracy: 0.5934\n",
      "Epoch 40/100\n",
      "67/67 [==============================] - 0s 2ms/step - loss: 0.6580 - accuracy: 0.6254 - val_loss: 0.6696 - val_accuracy: 0.5934\n",
      "Epoch 41/100\n",
      "67/67 [==============================] - 0s 2ms/step - loss: 0.6612 - accuracy: 0.6254 - val_loss: 0.6684 - val_accuracy: 0.5934\n",
      "Epoch 42/100\n",
      "67/67 [==============================] - 0s 2ms/step - loss: 0.6588 - accuracy: 0.6254 - val_loss: 0.6684 - val_accuracy: 0.5934\n",
      "Epoch 43/100\n",
      "67/67 [==============================] - 0s 3ms/step - loss: 0.6572 - accuracy: 0.6254 - val_loss: 0.6679 - val_accuracy: 0.5934\n",
      "Epoch 44/100\n",
      "67/67 [==============================] - 0s 3ms/step - loss: 0.6576 - accuracy: 0.6254 - val_loss: 0.6688 - val_accuracy: 0.5934\n",
      "Epoch 45/100\n",
      "67/67 [==============================] - 0s 2ms/step - loss: 0.6567 - accuracy: 0.6254 - val_loss: 0.6676 - val_accuracy: 0.5934\n",
      "Epoch 46/100\n",
      "67/67 [==============================] - 0s 3ms/step - loss: 0.6545 - accuracy: 0.6258 - val_loss: 0.6701 - val_accuracy: 0.5934\n",
      "Epoch 47/100\n",
      "67/67 [==============================] - 0s 2ms/step - loss: 0.6565 - accuracy: 0.6258 - val_loss: 0.6670 - val_accuracy: 0.5934\n",
      "Epoch 48/100\n",
      "67/67 [==============================] - 0s 3ms/step - loss: 0.6603 - accuracy: 0.6254 - val_loss: 0.6678 - val_accuracy: 0.5934\n",
      "Epoch 49/100\n",
      "67/67 [==============================] - 0s 3ms/step - loss: 0.6539 - accuracy: 0.6254 - val_loss: 0.6658 - val_accuracy: 0.5934\n",
      "Epoch 50/100\n",
      "67/67 [==============================] - 0s 3ms/step - loss: 0.6546 - accuracy: 0.6268 - val_loss: 0.6647 - val_accuracy: 0.5934\n",
      "Epoch 51/100\n",
      "67/67 [==============================] - 0s 2ms/step - loss: 0.6562 - accuracy: 0.6258 - val_loss: 0.6664 - val_accuracy: 0.5934\n",
      "Epoch 52/100\n",
      "67/67 [==============================] - 0s 2ms/step - loss: 0.6568 - accuracy: 0.6263 - val_loss: 0.6652 - val_accuracy: 0.5934\n",
      "Epoch 53/100\n",
      "67/67 [==============================] - 0s 2ms/step - loss: 0.6546 - accuracy: 0.6258 - val_loss: 0.6650 - val_accuracy: 0.5934\n",
      "Epoch 54/100\n",
      "67/67 [==============================] - 0s 2ms/step - loss: 0.6551 - accuracy: 0.6263 - val_loss: 0.6648 - val_accuracy: 0.5934\n",
      "Epoch 55/100\n",
      "67/67 [==============================] - 0s 3ms/step - loss: 0.6543 - accuracy: 0.6272 - val_loss: 0.6644 - val_accuracy: 0.5934\n",
      "Epoch 56/100\n",
      "67/67 [==============================] - 0s 2ms/step - loss: 0.6546 - accuracy: 0.6272 - val_loss: 0.6661 - val_accuracy: 0.5934\n",
      "Epoch 57/100\n",
      "67/67 [==============================] - 0s 2ms/step - loss: 0.6561 - accuracy: 0.6268 - val_loss: 0.6630 - val_accuracy: 0.5934\n",
      "Epoch 58/100\n",
      "67/67 [==============================] - 0s 3ms/step - loss: 0.6529 - accuracy: 0.6282 - val_loss: 0.6677 - val_accuracy: 0.5934\n",
      "Epoch 59/100\n",
      "67/67 [==============================] - 0s 3ms/step - loss: 0.6523 - accuracy: 0.6268 - val_loss: 0.6615 - val_accuracy: 0.5934\n",
      "Epoch 60/100\n",
      "67/67 [==============================] - 0s 2ms/step - loss: 0.6541 - accuracy: 0.6272 - val_loss: 0.6610 - val_accuracy: 0.5934\n",
      "Epoch 61/100\n",
      "67/67 [==============================] - 0s 3ms/step - loss: 0.6534 - accuracy: 0.6286 - val_loss: 0.6647 - val_accuracy: 0.5934\n",
      "Epoch 62/100\n",
      "67/67 [==============================] - 0s 2ms/step - loss: 0.6514 - accuracy: 0.6286 - val_loss: 0.6617 - val_accuracy: 0.5934\n",
      "Epoch 63/100\n",
      "67/67 [==============================] - 0s 2ms/step - loss: 0.6493 - accuracy: 0.6310 - val_loss: 0.6607 - val_accuracy: 0.5934\n",
      "Epoch 64/100\n",
      "67/67 [==============================] - 0s 2ms/step - loss: 0.6502 - accuracy: 0.6338 - val_loss: 0.6592 - val_accuracy: 0.5934\n",
      "Epoch 65/100\n",
      "67/67 [==============================] - 0s 2ms/step - loss: 0.6533 - accuracy: 0.6315 - val_loss: 0.6596 - val_accuracy: 0.5934\n",
      "Epoch 66/100\n",
      "67/67 [==============================] - 0s 2ms/step - loss: 0.6515 - accuracy: 0.6366 - val_loss: 0.6613 - val_accuracy: 0.5934\n",
      "Epoch 67/100\n",
      "67/67 [==============================] - 0s 3ms/step - loss: 0.6464 - accuracy: 0.6366 - val_loss: 0.6580 - val_accuracy: 0.5934\n",
      "Epoch 68/100\n",
      "67/67 [==============================] - 0s 2ms/step - loss: 0.6479 - accuracy: 0.6329 - val_loss: 0.6573 - val_accuracy: 0.5934\n",
      "Epoch 69/100\n",
      "67/67 [==============================] - 0s 2ms/step - loss: 0.6466 - accuracy: 0.6371 - val_loss: 0.6575 - val_accuracy: 0.5934\n",
      "Epoch 70/100\n",
      "67/67 [==============================] - 0s 2ms/step - loss: 0.6507 - accuracy: 0.6315 - val_loss: 0.6581 - val_accuracy: 0.5934\n",
      "Epoch 71/100\n",
      "67/67 [==============================] - 0s 2ms/step - loss: 0.6486 - accuracy: 0.6329 - val_loss: 0.6589 - val_accuracy: 0.5934\n",
      "Epoch 72/100\n",
      "67/67 [==============================] - 0s 2ms/step - loss: 0.6476 - accuracy: 0.6310 - val_loss: 0.6545 - val_accuracy: 0.6033\n",
      "Epoch 73/100\n",
      "67/67 [==============================] - 0s 3ms/step - loss: 0.6475 - accuracy: 0.6333 - val_loss: 0.6560 - val_accuracy: 0.5934\n",
      "Epoch 74/100\n",
      "67/67 [==============================] - 0s 3ms/step - loss: 0.6451 - accuracy: 0.6343 - val_loss: 0.6554 - val_accuracy: 0.5934\n",
      "Epoch 75/100\n",
      "67/67 [==============================] - 0s 4ms/step - loss: 0.6445 - accuracy: 0.6399 - val_loss: 0.6566 - val_accuracy: 0.5934\n",
      "Epoch 76/100\n",
      "67/67 [==============================] - 0s 6ms/step - loss: 0.6515 - accuracy: 0.6329 - val_loss: 0.6574 - val_accuracy: 0.5934\n",
      "Epoch 77/100\n",
      "67/67 [==============================] - 0s 3ms/step - loss: 0.6466 - accuracy: 0.6338 - val_loss: 0.6551 - val_accuracy: 0.5934\n",
      "Epoch 78/100\n",
      "67/67 [==============================] - 0s 2ms/step - loss: 0.6449 - accuracy: 0.6399 - val_loss: 0.6548 - val_accuracy: 0.5967\n",
      "Epoch 79/100\n",
      "67/67 [==============================] - 0s 2ms/step - loss: 0.6404 - accuracy: 0.6376 - val_loss: 0.6526 - val_accuracy: 0.6000\n",
      "Epoch 80/100\n",
      "67/67 [==============================] - 0s 2ms/step - loss: 0.6443 - accuracy: 0.6390 - val_loss: 0.6541 - val_accuracy: 0.5967\n",
      "Epoch 81/100\n",
      "67/67 [==============================] - 0s 2ms/step - loss: 0.6386 - accuracy: 0.6380 - val_loss: 0.6548 - val_accuracy: 0.5967\n",
      "Epoch 82/100\n",
      "67/67 [==============================] - 0s 2ms/step - loss: 0.6406 - accuracy: 0.6371 - val_loss: 0.6506 - val_accuracy: 0.6066\n",
      "Epoch 83/100\n",
      "67/67 [==============================] - 0s 2ms/step - loss: 0.6423 - accuracy: 0.6376 - val_loss: 0.6517 - val_accuracy: 0.6000\n",
      "Epoch 84/100\n",
      "67/67 [==============================] - 0s 2ms/step - loss: 0.6449 - accuracy: 0.6366 - val_loss: 0.6534 - val_accuracy: 0.5934\n",
      "Epoch 85/100\n",
      "67/67 [==============================] - 0s 2ms/step - loss: 0.6407 - accuracy: 0.6390 - val_loss: 0.6523 - val_accuracy: 0.5967\n",
      "Epoch 86/100\n",
      "67/67 [==============================] - 0s 2ms/step - loss: 0.6424 - accuracy: 0.6423 - val_loss: 0.6508 - val_accuracy: 0.5967\n",
      "Epoch 87/100\n",
      "67/67 [==============================] - 0s 2ms/step - loss: 0.6372 - accuracy: 0.6413 - val_loss: 0.6485 - val_accuracy: 0.6131\n",
      "Epoch 88/100\n",
      "67/67 [==============================] - 0s 2ms/step - loss: 0.6389 - accuracy: 0.6408 - val_loss: 0.6513 - val_accuracy: 0.6000\n",
      "Epoch 89/100\n",
      "67/67 [==============================] - 0s 2ms/step - loss: 0.6403 - accuracy: 0.6362 - val_loss: 0.6505 - val_accuracy: 0.6000\n",
      "Epoch 90/100\n",
      "67/67 [==============================] - 0s 3ms/step - loss: 0.6383 - accuracy: 0.6427 - val_loss: 0.6480 - val_accuracy: 0.6066\n",
      "Epoch 91/100\n",
      "67/67 [==============================] - 0s 2ms/step - loss: 0.6354 - accuracy: 0.6446 - val_loss: 0.6494 - val_accuracy: 0.6066\n",
      "Epoch 92/100\n",
      "67/67 [==============================] - 0s 2ms/step - loss: 0.6372 - accuracy: 0.6423 - val_loss: 0.6480 - val_accuracy: 0.6066\n",
      "Epoch 93/100\n",
      "67/67 [==============================] - 0s 2ms/step - loss: 0.6383 - accuracy: 0.6469 - val_loss: 0.6491 - val_accuracy: 0.6066\n",
      "Epoch 94/100\n",
      "67/67 [==============================] - 0s 2ms/step - loss: 0.6369 - accuracy: 0.6376 - val_loss: 0.6474 - val_accuracy: 0.6066\n",
      "Epoch 95/100\n",
      "67/67 [==============================] - 0s 3ms/step - loss: 0.6333 - accuracy: 0.6357 - val_loss: 0.6486 - val_accuracy: 0.6066\n",
      "Epoch 96/100\n",
      "67/67 [==============================] - 0s 3ms/step - loss: 0.6354 - accuracy: 0.6512 - val_loss: 0.6456 - val_accuracy: 0.6361\n",
      "Epoch 97/100\n",
      "67/67 [==============================] - 0s 3ms/step - loss: 0.6363 - accuracy: 0.6460 - val_loss: 0.6440 - val_accuracy: 0.6459\n",
      "Epoch 98/100\n",
      "67/67 [==============================] - 0s 2ms/step - loss: 0.6355 - accuracy: 0.6413 - val_loss: 0.6451 - val_accuracy: 0.6131\n",
      "Epoch 99/100\n",
      "67/67 [==============================] - 0s 3ms/step - loss: 0.6384 - accuracy: 0.6362 - val_loss: 0.6494 - val_accuracy: 0.6066\n",
      "Epoch 100/100\n",
      "67/67 [==============================] - 0s 2ms/step - loss: 0.6347 - accuracy: 0.6460 - val_loss: 0.6457 - val_accuracy: 0.6131\n"
     ]
    }
   ],
   "source": [
    "model.compile(optimizer = 'adam',\n",
    "              loss = 'binary_crossentropy',\n",
    "              metrics = ['accuracy'])\n",
    "epochs = 100\n",
    "\n",
    "history = model.fit(X_train,\n",
    "                    y_train,\n",
    "                    epochs = epochs,\n",
    "                    validation_data = (X_val,y_val),\n",
    "                    batch_size = 32)"
   ]
  },
  {
   "cell_type": "markdown",
   "id": "1f1e2596",
   "metadata": {
    "id": "NgRy9QXrvizS",
    "papermill": {
     "duration": 0.196303,
     "end_time": "2022-01-03T17:48:47.282554",
     "exception": false,
     "start_time": "2022-01-03T17:48:47.086251",
     "status": "completed"
    },
    "tags": []
   },
   "source": [
    "Se prueba el modelo con el conjunto de test"
   ]
  },
  {
   "cell_type": "code",
   "execution_count": 33,
   "id": "020b75a1",
   "metadata": {
    "execution": {
     "iopub.execute_input": "2022-01-03T17:48:47.667512Z",
     "iopub.status.busy": "2022-01-03T17:48:47.666489Z",
     "iopub.status.idle": "2022-01-03T17:48:47.767057Z",
     "shell.execute_reply": "2022-01-03T17:48:47.766319Z",
     "shell.execute_reply.started": "2022-01-03T17:21:08.156816Z"
    },
    "id": "x1tiENtM6qLb",
    "outputId": "6c01d939-272d-4842-bac6-9da8f45267a9",
    "papermill": {
     "duration": 0.296379,
     "end_time": "2022-01-03T17:48:47.767215",
     "exception": false,
     "start_time": "2022-01-03T17:48:47.470836",
     "status": "completed"
    },
    "tags": []
   },
   "outputs": [
    {
     "name": "stdout",
     "output_type": "stream",
     "text": [
      "20/20 [==============================] - 0s 2ms/step - loss: 0.6332 - accuracy: 0.6174\n"
     ]
    },
    {
     "data": {
      "text/plain": [
       "[0.6331933736801147, 0.6174055933952332]"
      ]
     },
     "execution_count": 33,
     "metadata": {},
     "output_type": "execute_result"
    }
   ],
   "source": [
    "model.evaluate(X_test,y_test)"
   ]
  },
  {
   "cell_type": "markdown",
   "id": "052b49c7",
   "metadata": {
    "id": "9hfBANaDxgq8",
    "papermill": {
     "duration": 0.196904,
     "end_time": "2022-01-03T17:48:48.159961",
     "exception": false,
     "start_time": "2022-01-03T17:48:47.963057",
     "status": "completed"
    },
    "tags": []
   },
   "source": [
    "## Comentarios y Conclusiones Finales"
   ]
  },
  {
   "cell_type": "markdown",
   "id": "11fb8291",
   "metadata": {
    "id": "htKKYhjrx1sM",
    "papermill": {
     "duration": 0.192014,
     "end_time": "2022-01-03T17:48:48.539459",
     "exception": false,
     "start_time": "2022-01-03T17:48:48.347445",
     "status": "completed"
    },
    "tags": []
   },
   "source": [
    "Los resultados obtenidos con los 3 algoritmos no muestran buenas predicciones, rondando entre el 60% y 70% de accuracy. \n",
    "Comparando con otros trabajos realizados en Kaggle vemos que todos los trabajos rondan los mismos porcentajes de predicción. Uno en particular logra sobresalir con un 76%, debido que hizo uso de una técnica adicional. Observó que había un desbalance en los datos, esto es que había muchas más muestras de agua no potable que potable, por lo que hizo un sobre-muestreo mediante Synthetic Minority Oversampling Technique (SMOT) para afectar y mejorar el rendimiento. Finalizando, una hipótesis que se cree es que a pesar que la correlación entre los predictores es baja, no entregan la suficiente información, que sea relevante, para poder pronosticar si el agua es potable o no, obteniéndose resultados menores al 80% con la mayoría de los clasificadores.\n"
   ]
  }
 ],
 "metadata": {
  "kernelspec": {
   "display_name": "Python 3",
   "language": "python",
   "name": "python3"
  },
  "language_info": {
   "codemirror_mode": {
    "name": "ipython",
    "version": 3
   },
   "file_extension": ".py",
   "mimetype": "text/x-python",
   "name": "python",
   "nbconvert_exporter": "python",
   "pygments_lexer": "ipython3",
   "version": "3.7.12"
  },
  "papermill": {
   "default_parameters": {},
   "duration": 1613.609129,
   "end_time": "2022-01-03T17:48:52.184727",
   "environment_variables": {},
   "exception": null,
   "input_path": "__notebook__.ipynb",
   "output_path": "__notebook__.ipynb",
   "parameters": {},
   "start_time": "2022-01-03T17:21:58.575598",
   "version": "2.3.3"
  }
 },
 "nbformat": 4,
 "nbformat_minor": 5
}
